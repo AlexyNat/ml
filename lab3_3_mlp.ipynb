{
  "nbformat": 4,
  "nbformat_minor": 0,
  "metadata": {
    "colab": {
      "provenance": [],
      "collapsed_sections": [],
      "authorship_tag": "ABX9TyPup9ImaRl8NRWcvFXnpWen",
      "include_colab_link": true
    },
    "kernelspec": {
      "name": "python3",
      "display_name": "Python 3"
    },
    "language_info": {
      "name": "python"
    }
  },
  "cells": [
    {
      "cell_type": "markdown",
      "metadata": {
        "id": "view-in-github",
        "colab_type": "text"
      },
      "source": [
        "<a href=\"https://colab.research.google.com/github/AlexyNat/ml/blob/main/lab3_3_mlp.ipynb\" target=\"_parent\"><img src=\"https://colab.research.google.com/assets/colab-badge.svg\" alt=\"Open In Colab\"/></a>"
      ]
    },
    {
      "cell_type": "markdown",
      "source": [
        "# Лабораторная работа 3"
      ],
      "metadata": {
        "id": "l8_5f11nPW2U"
      }
    },
    {
      "cell_type": "markdown",
      "source": [
        "Данные из [Wine Data Set](https://archive.ics.uci.edu/ml/datasets/Wine)"
      ],
      "metadata": {
        "id": "FemdtVaWQoR6"
      }
    },
    {
      "cell_type": "markdown",
      "source": [
        "## Необходимые импорты"
      ],
      "metadata": {
        "id": "Q6EgtDNRL9f1"
      }
    },
    {
      "cell_type": "code",
      "execution_count": 1,
      "metadata": {
        "id": "gn3Vf81JLSIB"
      },
      "outputs": [],
      "source": [
        "import numpy as np\n",
        "import pandas as pd\n",
        "from sklearn.linear_model import Perceptron\n",
        "from sklearn.preprocessing import StandardScaler\n",
        "from sklearn.metrics import accuracy_score\n",
        "from sklearn.neural_network import MLPClassifier\n",
        "import matplotlib.pyplot as plt\n",
        "from matplotlib.colors import ListedColormap\n",
        "from sklearn.model_selection import train_test_split"
      ]
    },
    {
      "cell_type": "markdown",
      "source": [
        "## Загрузка данных"
      ],
      "metadata": {
        "id": "kPt4cNYhSB78"
      }
    },
    {
      "cell_type": "code",
      "source": [
        "data = pd.read_csv('sample_data/wine.data', header=None)\n",
        "# классы (1, 2, 3)\n",
        "y = data[0]\n",
        "data.drop([0], axis=1, inplace=True)\n",
        "X_train, X_test, y_train, y_test = train_test_split(data.values, y)"
      ],
      "metadata": {
        "id": "KDhjcyOAQ54u"
      },
      "execution_count": 2,
      "outputs": []
    },
    {
      "cell_type": "markdown",
      "source": [
        "## Построение моделей"
      ],
      "metadata": {
        "id": "a0NZBVvuPITW"
      }
    },
    {
      "cell_type": "code",
      "source": [
        "#Инициализация списков для сохранения accuracy моделей\n",
        "acc_p = []\n",
        "acc_pn = []\n",
        "acc_mlp = []\n",
        "acc_mlpn = []\n",
        "#Цикл прогона моделей\n",
        "for i in range(1, 11, 2):\n",
        "  i = int(i)\n",
        "  #Распечатка номера итерации\n",
        "# print(\"Random: \", i)\n",
        "  #Создание модели персептрона\n",
        "  clf = Perceptron(random_state=i, alpha=0.01, max_iter=2000)\n",
        "  #Обучение модели\n",
        "  clf.fit(X_train, y_train)\n",
        "  #Получение прогноза\n",
        "  predictions = clf.predict(X_test)\n",
        "  # Расчет показателя accuracy\n",
        "  acc = accuracy_score(y_test, predictions)\n",
        "  #Распечатка результата\n",
        "# print(\"Perceptron: \", acc)\n",
        "  #Добавление оценки в список оценок для модели персептрона\n",
        "  acc_p.append(acc)\n",
        "  #Нормализация данных\n",
        "  scaler = StandardScaler()\n",
        "  X_train_scaled = scaler.fit_transform(X_train)\n",
        "  X_test_scaled = scaler.transform(X_test)\n",
        "  #Работа пресептрона с нормализованными данными\n",
        "  clf = Perceptron(random_state=i, alpha=0.01, max_iter=2000)\n",
        "  clf.fit(X_train_scaled, y_train)\n",
        "  predictions = clf.predict(X_test_scaled)\n",
        "  acc = accuracy_score(y_test, predictions)\n",
        "# print(\"Perceptron with normalization: \", acc)\n",
        "  acc_pn.append(acc)\n",
        "  #Создание многослойного классификатора\n",
        "  mlp = MLPClassifier(random_state=i, solver=\"sgd\", activation=\"tanh\", alpha=0.01,\n",
        "  hidden_layer_sizes=(2, ), max_iter=2000, tol=0.00000001)\n",
        "  mlp.fit(X_train, y_train)\n",
        "  #Работа с ненормализованными данными\n",
        "  predictions = mlp.predict(X_test)\n",
        "  acc = accuracy_score(y_test, predictions)\n",
        "# print(\"MLP: \", acc)\n",
        "  acc_mlp.append(acc)\n",
        "  #Работа с нормализованными данными\n",
        "  mlp = MLPClassifier(random_state=i, solver=\"sgd\", activation=\"tanh\", alpha=0.01,\n",
        "  hidden_layer_sizes=(2, ), max_iter=2000, tol=0.00000001)\n",
        "  mlp.fit(X_train_scaled, y_train)\n",
        "  predictions = mlp.predict(X_test_scaled)\n",
        "  acc = accuracy_score(y_test, predictions)\n",
        "# print(\"MLPwith Norm: \", acc)\n",
        "  acc_mlpn.append(acc)"
      ],
      "metadata": {
        "colab": {
          "base_uri": "https://localhost:8080/"
        },
        "id": "rVcQu8NlMRXN",
        "outputId": "286ce248-d301-4276-bc93-51a497bc1544"
      },
      "execution_count": 3,
      "outputs": [
        {
          "output_type": "stream",
          "name": "stderr",
          "text": [
            "/usr/local/lib/python3.7/dist-packages/sklearn/neural_network/_multilayer_perceptron.py:696: ConvergenceWarning: Stochastic Optimizer: Maximum iterations (2000) reached and the optimization hasn't converged yet.\n",
            "  ConvergenceWarning,\n",
            "/usr/local/lib/python3.7/dist-packages/sklearn/neural_network/_multilayer_perceptron.py:696: ConvergenceWarning: Stochastic Optimizer: Maximum iterations (2000) reached and the optimization hasn't converged yet.\n",
            "  ConvergenceWarning,\n",
            "/usr/local/lib/python3.7/dist-packages/sklearn/neural_network/_multilayer_perceptron.py:696: ConvergenceWarning: Stochastic Optimizer: Maximum iterations (2000) reached and the optimization hasn't converged yet.\n",
            "  ConvergenceWarning,\n",
            "/usr/local/lib/python3.7/dist-packages/sklearn/neural_network/_multilayer_perceptron.py:696: ConvergenceWarning: Stochastic Optimizer: Maximum iterations (2000) reached and the optimization hasn't converged yet.\n",
            "  ConvergenceWarning,\n",
            "/usr/local/lib/python3.7/dist-packages/sklearn/neural_network/_multilayer_perceptron.py:696: ConvergenceWarning: Stochastic Optimizer: Maximum iterations (2000) reached and the optimization hasn't converged yet.\n",
            "  ConvergenceWarning,\n"
          ]
        }
      ]
    },
    {
      "cell_type": "markdown",
      "source": [
        "## Распечатка итоговых результатов"
      ],
      "metadata": {
        "id": "VLKQBLOKPPFj"
      }
    },
    {
      "cell_type": "code",
      "source": [
        "def median(lst):\n",
        "  return np.median(np.array(lst))\n",
        "\n",
        "print(\"Perceptron: \", min(acc_p), median(acc_p), max(acc_p), np.std(acc_p))\n",
        "print(\"Perceptron with Norm: \", min(acc_pn), median(acc_pn), max(acc_pn), np.std(acc_pn))\n",
        "print(\"MLP: \", min(acc_mlp), median(acc_mlp), max(acc_mlp), np.std(acc_mlp))\n",
        "print(\"MLP with Norm: \", min(acc_mlpn), median(acc_mlpn), max(acc_mlpn), np.std(acc_mlpn))"
      ],
      "metadata": {
        "colab": {
          "base_uri": "https://localhost:8080/"
        },
        "id": "3x4PKhDRO4UM",
        "outputId": "e87bee5e-fccf-4b39-cf4a-8aaaa8ec9077"
      },
      "execution_count": 4,
      "outputs": [
        {
          "output_type": "stream",
          "name": "stdout",
          "text": [
            "Perceptron:  0.4 0.6444444444444445 0.6444444444444445 0.09532271373123208\n",
            "Perceptron with Norm:  0.9777777777777777 1.0 1.0 0.008888888888888903\n",
            "MLP:  0.3111111111111111 0.3111111111111111 0.3111111111111111 0.0\n",
            "MLP with Norm:  0.9777777777777777 1.0 1.0 0.010886621079036363\n"
          ]
        }
      ]
    },
    {
      "cell_type": "markdown",
      "source": [
        "## Построение графика"
      ],
      "metadata": {
        "id": "gXbfglg5PGBH"
      }
    },
    {
      "cell_type": "code",
      "source": [
        "figure = plt.figure(figsize=(17, 9))\n",
        "cm = plt.cm.RdBu\n",
        "cm_bright = ListedColormap(['#FF0000', '#0000FF'])\n",
        "ax = plt.subplot(1, 1, 1)\n",
        "\n",
        "#Расчет минимума и максимума для графика\n",
        "X = np.concatenate((X_train, X_test), axis=0)\n",
        "x_min, x_max = X[:, 0].min() - .5, X[:, 0].max() + .5\n",
        "y_min, y_max = X[:, 1].min() - .5, X[:, 1].max() + .5\n",
        "\n",
        "\n",
        "# Точки из обучающей выборки\n",
        "ax.scatter(X_train[:, 0], X_train[:, 1], c=y_train, cmap=cm_bright)\n",
        "# Тестовые точки\n",
        "ax.scatter(X_test[:, 0], X_test[:, 1], c=y_test, cmap=cm_bright, alpha=0.6)\n",
        "ax.set_xlim(x_min, x_max)\n",
        "ax.set_ylim(y_min, y_max)\n",
        "ax.set_xticks(())\n",
        "ax.set_yticks(())\n",
        "plt.show()"
      ],
      "metadata": {
        "colab": {
          "base_uri": "https://localhost:8080/",
          "height": 524
        },
        "id": "2z4CI_YkPEIz",
        "outputId": "9dfb32f5-f893-4c9c-f652-a3b9e0f8cd29"
      },
      "execution_count": 5,
      "outputs": [
        {
          "output_type": "display_data",
          "data": {
            "text/plain": [
              "<Figure size 1224x648 with 1 Axes>"
            ],
            "image/png": "[encoded data removed]"
          },
          "metadata": {}
        }
      ]
    }
  ]
}