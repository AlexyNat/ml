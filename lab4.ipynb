{
  "nbformat": 4,
  "nbformat_minor": 0,
  "metadata": {
    "colab": {
      "provenance": [],
      "collapsed_sections": [],
      "authorship_tag": "ABX9TyMz3brE3Bdi4EknouNggjms",
      "include_colab_link": true
    },
    "kernelspec": {
      "name": "python3",
      "display_name": "Python 3"
    },
    "language_info": {
      "name": "python"
    }
  },
  "cells": [
    {
      "cell_type": "markdown",
      "metadata": {
        "id": "view-in-github",
        "colab_type": "text"
      },
      "source": [
        "<a href=\"https://colab.research.google.com/github/AlexyNat/ml/blob/main/lab4.ipynb\" target=\"_parent\"><img src=\"https://colab.research.google.com/assets/colab-badge.svg\" alt=\"Open In Colab\"/></a>"
      ]
    },
    {
      "cell_type": "markdown",
      "source": [
        "<h1><u>Лабораторная работа №4. Основы нейронных сетей</u></h1>\n",
        "\n",
        "<h3>Общее задание</h3>\n",
        "\n",
        "<p>Перед выполнением лабораторной работы необходимо загрузить набор данных в соответствии с вариантом на диск\n",
        "</p>\n",
        "<ol>\n",
        "  <li>Написать программу, которая разделяет исходную выборку на обучающую и тестовую (training set, validation set, test set), если такое разделение не предусмотрено предложенным набором данных.</li>\n",
        "  <li>Произвести масштабирование признаков (scaling).</li>\n",
        "  <li>Проверить точность модели по тестовой выборке</li>\n",
        "  <li>С использованием библиотеки scikit-learn обучить 2 модели нейронной сети (Perceptron и MLPClassifier) по обучающей выборке. Перед обучением необходимо осуществить масштабирование признаков.</li>\n",
        "  <li>Проверить точность модели по тестовой выборке.</li>\n",
        "  <li>Провести эксперименты и определить наилучшие параметры коэффициента обучения, параметра регуляризации, функции оптимизации. Данные экспериментов необходимо представить в отчете (графики, ход проведения эксперимента, выводы).</li>\n",
        "</ol>\n",
        "\n",
        "<h2>Данные распознавания буквенных изображений</h2>\n",
        "<h3>Letter Recognition Data Set - 13 вариант</h3>\n",
        "<p>Набор искаженных черно-белых букв</p>"
      ],
      "metadata": {
        "id": "-TMg8RmcZmN9"
      }
    },
    {
      "cell_type": "markdown",
      "source": [
        "Attribute Information:\n",
        "<ol>\n",
        "\t <li>lettr\tcapital letter\t(26 values from A to Z)</li>\n",
        "\t <li>x-box\thorizontal position of box\t(integer)</li>\n",
        "\t <li>y-box\tvertical position of box\t(integer)</li>\n",
        "\t <li>width width of box\t\t\t(integer)</li>\n",
        "\t <li>high \theight of box\t\t\t(integer)</li>\n",
        "\t <li>onpix\ttotal # on pixels\t\t(integer)</li>\n",
        "\t <li>x-bar\tmean x of on pixels in box\t(integer)</li>\n",
        "\t <li>y-bar\tmean y of on pixels in box\t(integer)</li>\n",
        "\t <li>x2bar\tmean x variance\t\t\t(integer)</li>\n",
        "\t <li>y2bar\tmean y variance\t\t\t(integer)</li>\n",
        "\t <li>\txybar\tmean x y correlation\t\t(integer)</li>\n",
        "\t <li>x2ybr\tmean of x * x * y\t\t(integer)</li>\n",
        "\t <li>\txy2br\tmean of x * y * y\t\t(integer)</li>\n",
        "\t <li>\tx-ege\tmean edge count left to right\t(integer)</li>\n",
        "\t <li>xegvy\tcorrelation of x-ege with y\t(integer)</li>\n",
        "\t <li>y-ege\tmean edge count bottom to top\t(integer)</li>\n",
        "\t <li>yegvx\tcorrelation of y-ege with x\t(integer)</li>\n",
        "</ol>"
      ],
      "metadata": {
        "id": "x16I7RSBZuFv"
      }
    },
    {
      "cell_type": "markdown",
      "source": [
        "<h3>Разделяем данные</h3>"
      ],
      "metadata": {
        "id": "Tc-ZmomFIAcp"
      }
    },
    {
      "cell_type": "code",
      "source": [
        "from sklearn.model_selection import train_test_split\n",
        "import pandas as pd\n",
        "from sklearn.utils import shuffle\n",
        "import numpy as np\n",
        "import matplotlib.pyplot as plt\n",
        "\n",
        "\n",
        "data = pd.read_csv('sample_data/letters.data', header=None)\n",
        "# классы (буквы)\n",
        "y = data[0]\n",
        "# удаляем классы (наименования буквы) из признаков\n",
        "data.drop([0], axis=1, inplace=True)\n",
        "# разделение данных 0.7 к 0.3\n",
        "X_train, X_holdout, y_train, y_holdout = train_test_split(data.values, y, test_size=0.3)"
      ],
      "metadata": {
        "id": "B7GaX76M-Beq"
      },
      "execution_count": null,
      "outputs": []
    },
    {
      "cell_type": "markdown",
      "source": [
        "<h3>Масштабирование признаков</h3>"
      ],
      "metadata": {
        "id": "yX1ieSVXIMl6"
      }
    },
    {
      "cell_type": "code",
      "source": [
        "from sklearn.preprocessing import StandardScaler\n",
        "\n",
        "# масштабирование признаков\n",
        "scaler = StandardScaler()\n",
        "X_train_scaled = scaler.fit_transform(X_train)\n",
        "X_holdout_scaled = scaler.transform(X_holdout)"
      ],
      "metadata": {
        "id": "NReeWGNVIM7d"
      },
      "execution_count": null,
      "outputs": []
    },
    {
      "cell_type": "markdown",
      "source": [
        "<h3>Обучение модели MLPClassifier (Многослойный персептрон) нейронной сети</h3>"
      ],
      "metadata": {
        "id": "o8xDm9GwIdBS"
      }
    },
    {
      "cell_type": "code",
      "source": [
        "from sklearn.neural_network import MLPClassifier\n",
        "\n",
        "plt.figure(figsize=(14, 5))\n",
        "funcs = 'identity', 'logistic', 'tanh', 'relu' # функции активации\n",
        "#learning_rate_init = np.linspace(0.0001, 5, 3) # коэффициента обучения\n",
        "score = []\n",
        "\n",
        "for inx, func in enumerate(funcs):\n",
        "  clf_mlp = MLPClassifier(random_state=7,activation=func).fit(X_train_scaled, y_train)\n",
        "  score.append(clf_mlp.score(X_holdout_scaled, y_holdout))"
      ],
      "metadata": {
        "id": "nU_9j4eVIdTZ",
        "colab": {
          "base_uri": "https://localhost:8080/",
          "height": 158
        },
        "outputId": "c9d67717-c64c-4cd5-8091-5a1d001f6fa3"
      },
      "execution_count": null,
      "outputs": [
        {
          "output_type": "stream",
          "name": "stderr",
          "text": [
            "/usr/local/lib/python3.7/dist-packages/sklearn/neural_network/_multilayer_perceptron.py:696: ConvergenceWarning: Stochastic Optimizer: Maximum iterations (200) reached and the optimization hasn't converged yet.\n",
            "  ConvergenceWarning,\n",
            "/usr/local/lib/python3.7/dist-packages/sklearn/neural_network/_multilayer_perceptron.py:696: ConvergenceWarning: Stochastic Optimizer: Maximum iterations (200) reached and the optimization hasn't converged yet.\n",
            "  ConvergenceWarning,\n",
            "/usr/local/lib/python3.7/dist-packages/sklearn/neural_network/_multilayer_perceptron.py:696: ConvergenceWarning: Stochastic Optimizer: Maximum iterations (200) reached and the optimization hasn't converged yet.\n",
            "  ConvergenceWarning,\n"
          ]
        },
        {
          "output_type": "display_data",
          "data": {
            "text/plain": [
              "<Figure size 1008x360 with 0 Axes>"
            ]
          },
          "metadata": {}
        }
      ]
    },
    {
      "cell_type": "code",
      "source": [
        "plt.title('График')\n",
        "plt.xlabel(\"Функции активации\")\n",
        "plt.ylabel(\"Средняя точность предсказаний\")\n",
        "plt.plot(range(1, 5), score, \"r-\")\n",
        "plt.show()"
      ],
      "metadata": {
        "colab": {
          "base_uri": "https://localhost:8080/",
          "height": 295
        },
        "id": "7ZgRaWXG_QA1",
        "outputId": "7cedbe41-4c80-4ab8-fc01-45a46dd7d1fe"
      },
      "execution_count": null,
      "outputs": [
        {
          "output_type": "display_data",
          "data": {
            "text/plain": [
              "<Figure size 432x288 with 1 Axes>"
            ],
            "image/png": "[encoded data removed]"
          },
          "metadata": {
            "needs_background": "light"
          }
        }
      ]
    },
    {
      "cell_type": "markdown",
      "source": [
        "<h3>Проверка точности модели MLPClassifier по тестовой выборке</h3>"
      ],
      "metadata": {
        "id": "W9Ar0VEJKvUS"
      }
    },
    {
      "cell_type": "code",
      "source": [
        "beg = 3\n",
        "end = 15\n",
        "clf_mlp = MLPClassifier(random_state=7,activation='relu').fit(X_train_scaled, y_train)\n",
        "pred_vals = clf_mlp.predict(X_holdout_scaled[beg:end, :])\n",
        "print(f'Предсказанные классы: ({end - beg} вариантов)', pred_vals)\n",
        "print(f'Истинные классы:      ({end - beg} вариантов)', y_holdout.values[beg:end])\n",
        "print(f'Средняя точность предсказаний: {clf_mlp.score(X_holdout_scaled, y_holdout):.2}')"
      ],
      "metadata": {
        "colab": {
          "base_uri": "https://localhost:8080/"
        },
        "id": "nJcUHVkTKUBR",
        "outputId": "ec4800b0-8160-4b53-dec5-ef2a190cbc0a"
      },
      "execution_count": null,
      "outputs": [
        {
          "output_type": "stream",
          "name": "stdout",
          "text": [
            "Предсказанные классы: (12 вариантов) ['X' 'K' 'M' 'L' 'U' 'O' 'V' 'D' 'X' 'G' 'A' 'X']\n",
            "Истинные классы:      (12 вариантов) ['X' 'K' 'M' 'G' 'U' 'O' 'V' 'D' 'X' 'G' 'A' 'X']\n",
            "Средняя точность предсказаний: 0.94\n"
          ]
        },
        {
          "output_type": "stream",
          "name": "stderr",
          "text": [
            "/usr/local/lib/python3.7/dist-packages/sklearn/neural_network/_multilayer_perceptron.py:696: ConvergenceWarning: Stochastic Optimizer: Maximum iterations (200) reached and the optimization hasn't converged yet.\n",
            "  ConvergenceWarning,\n"
          ]
        }
      ]
    },
    {
      "cell_type": "markdown",
      "source": [
        "<h3>Обучение модели Perceptron нейронной сети</h3>"
      ],
      "metadata": {
        "id": "gWuNRibYNXD5"
      }
    },
    {
      "cell_type": "code",
      "source": [
        "from sklearn.linear_model import Perceptron\n",
        "\n",
        "plt.figure(figsize=(14, 5))\n",
        "alpha = np.linspace(0.0001, 30, 10)\n",
        "score = []\n",
        "\n",
        "for a in alpha:\n",
        "  clf_perc = Perceptron(max_iter=1000, alpha=a,penalty='l2', random_state=6, n_iter_no_change=30).fit(X_train_scaled, y_train)\n",
        "  score.append(clf_perc.score(X_holdout_scaled, y_holdout))\n",
        "\n",
        "plt.xlabel(\"Коэффициент обучения\")\n",
        "plt.ylabel(\"Средняя точность предсказаний\")\n",
        "plt.plot(alpha, score, \"r-\", label='elasticnet')\n",
        "plt.show()"
      ],
      "metadata": {
        "id": "tZk_OBTUNheQ",
        "colab": {
          "base_uri": "https://localhost:8080/",
          "height": 335
        },
        "outputId": "b8ad94a1-c019-4b8e-f823-5aef9eabe1fd"
      },
      "execution_count": null,
      "outputs": [
        {
          "output_type": "display_data",
          "data": {
            "text/plain": [
              "<Figure size 1008x360 with 1 Axes>"
            ],
            "image/png": "[encoded data removed]"
          },
          "metadata": {
            "needs_background": "light"
          }
        }
      ]
    },
    {
      "cell_type": "markdown",
      "source": [
        "<h3>Проверка точности модели Perceptron по тестовой выборке</h3>"
      ],
      "metadata": {
        "id": "ARvepESbOYy-"
      }
    },
    {
      "cell_type": "code",
      "source": [
        "beg = 3\n",
        "end = 15\n",
        "\n",
        "clf_perc = Perceptron(max_iter=1000, random_state=7, n_iter_no_change=50).fit(X_train_scaled, y_train)\n",
        "pred_vals = clf_perc.predict(X_holdout_scaled[beg:end, :])\n",
        "\n",
        "print(f'Предсказанные классы: ({end - beg} вариантов)', pred_vals)\n",
        "print(f'Истинные классы:      ({end - beg} вариантов)', y_holdout.values[beg:end])\n",
        "print(f'Средняя точность предсказаний: {clf_perc.score(X_holdout_scaled, y_holdout):.2}')"
      ],
      "metadata": {
        "colab": {
          "base_uri": "https://localhost:8080/"
        },
        "id": "3Dh7XSAfOZEZ",
        "outputId": "55364858-4198-4f95-b2a0-e58ba2093231"
      },
      "execution_count": null,
      "outputs": [
        {
          "output_type": "stream",
          "name": "stdout",
          "text": [
            "Предсказанные классы: (12 вариантов) ['X' 'K' 'M' 'G' 'H' 'O' 'G' 'H' 'X' 'G' 'A' 'X']\n",
            "Истинные классы:      (12 вариантов) ['X' 'K' 'M' 'G' 'U' 'O' 'V' 'D' 'X' 'G' 'A' 'X']\n",
            "Средняя точность предсказаний: 0.45\n"
          ]
        }
      ]
    },
    {
      "cell_type": "markdown",
      "source": [
        "<h3>Дерево решений</h3>"
      ],
      "metadata": {
        "id": "QgSP1ucNYZMQ"
      }
    },
    {
      "cell_type": "code",
      "source": [
        "from sklearn.tree import DecisionTreeClassifier\n",
        "\n",
        "depth=list(range(1, 30))\n",
        "beg = 3\n",
        "end = 15\n",
        "\n",
        "score = []\n",
        "\n",
        "for d in depth:\n",
        "  clf_tree = DecisionTreeClassifier(max_depth=d, random_state=4)\n",
        "  clf_tree.fit(X_train_scaled, y_train)\n",
        "  pred_vals = clf_tree.predict(X_holdout_scaled[beg:end, :])\n",
        "  score.append(clf_tree.score(X_holdout_scaled, y_holdout))\n",
        "\n",
        "print(f'Средняя точность предсказаний: {score[-1]}')\n",
        "plt.xlabel(\"Максимальная глубина дерева\")\n",
        "plt.ylabel(\"Средняя точность предсказаний\")\n",
        "plt.plot(depth, score, \"r-\")\n",
        "plt.show()"
      ],
      "metadata": {
        "colab": {
          "base_uri": "https://localhost:8080/",
          "height": 299
        },
        "id": "SKhxhsW4WaSC",
        "outputId": "a182f213-f437-4539-d932-48df32e67093"
      },
      "execution_count": null,
      "outputs": [
        {
          "output_type": "stream",
          "name": "stdout",
          "text": [
            "Средняя точность предсказаний: 0.8638333333333333\n"
          ]
        },
        {
          "output_type": "display_data",
          "data": {
            "text/plain": [
              "<Figure size 432x288 with 1 Axes>"
            ],
            "image/png": "[encoded data removed]"
          },
          "metadata": {
            "needs_background": "light"
          }
        }
      ]
    },
    {
      "cell_type": "markdown",
      "source": [
        "<h3>Логистическая регрессия</h3>"
      ],
      "metadata": {
        "id": "GDxEOuv3aTbh"
      }
    },
    {
      "cell_type": "code",
      "source": [
        "from sklearn.linear_model import LogisticRegression\n",
        "\n",
        "clf_log = LogisticRegression(solver='newton-cg')\n",
        "\n",
        "clf_log.fit(X_train_scaled, y_train)\n",
        "\n",
        "beg = 3\n",
        "end = 15\n",
        "\n",
        "pred_vals = clf_log.predict(X_holdout_scaled[beg:end, :])\n",
        "\n",
        "print(f'Предсказанные классы: ({end - beg} вариантов)', pred_vals)\n",
        "print(f'Истинные классы:      ({end - beg} вариантов)', y_holdout.values[beg:end])\n",
        "print(f'Средняя точность предсказаний: {clf_log.score(X_holdout_scaled, y_holdout):.2}')"
      ],
      "metadata": {
        "colab": {
          "base_uri": "https://localhost:8080/"
        },
        "id": "izFfLNaNYgko",
        "outputId": "a2317f5b-a973-434a-ba21-8b660a17ab87"
      },
      "execution_count": null,
      "outputs": [
        {
          "output_type": "stream",
          "name": "stdout",
          "text": [
            "Предсказанные классы: (12 вариантов) ['X' 'K' 'M' 'G' 'U' 'O' 'H' 'D' 'X' 'G' 'A' 'X']\n",
            "Истинные классы:      (12 вариантов) ['X' 'K' 'M' 'G' 'U' 'O' 'V' 'D' 'X' 'G' 'A' 'X']\n",
            "Средняя точность предсказаний: 0.77\n"
          ]
        }
      ]
    },
    {
      "cell_type": "markdown",
      "source": [
        "<h3>К билжайщих соседей</h3>"
      ],
      "metadata": {
        "id": "cOhxwwMGLSNS"
      }
    },
    {
      "cell_type": "code",
      "source": [
        "from sklearn.neighbors import KNeighborsClassifier\n",
        "\n",
        "neighbors=list(range(1, 30))\n",
        "beg = 3\n",
        "end = 15\n",
        "\n",
        "score = []\n",
        "\n",
        "for n in neighbors:\n",
        "  knn = KNeighborsClassifier(n_neighbors=n)\n",
        "  knn.fit(X_train_scaled, y_train)\n",
        "  pred_vals = knn.predict(X_holdout_scaled[beg:end, :])\n",
        "  score.append(knn.score(X_holdout_scaled, y_holdout))\n",
        "\n",
        "\n",
        "plt.xlabel(\"Число соседей\")\n",
        "plt.ylabel(\"Средняя точность предсказаний\")\n",
        "plt.plot(neighbors, score, \"r-\")\n",
        "plt.show()"
      ],
      "metadata": {
        "colab": {
          "base_uri": "https://localhost:8080/",
          "height": 279
        },
        "id": "bFGxwvNMaS33",
        "outputId": "ad5306d7-cc65-477f-a66a-fe82b64c90d1"
      },
      "execution_count": null,
      "outputs": [
        {
          "output_type": "display_data",
          "data": {
            "text/plain": [
              "<Figure size 432x288 with 1 Axes>"
            ],
            "image/png": "[encoded data removed]"
          },
          "metadata": {
            "needs_background": "light"
          }
        }
      ]
    },
    {
      "cell_type": "markdown",
      "source": [
        "<h3>Случайный лес</h3>"
      ],
      "metadata": {
        "id": "enEZuPTIcLnT"
      }
    },
    {
      "cell_type": "code",
      "source": [
        "from sklearn.ensemble import RandomForestClassifier\n",
        "\n",
        "depth=list(range(1, 30))\n",
        "beg = 3\n",
        "end = 15\n",
        "\n",
        "score = []\n",
        "\n",
        "for d in depth:\n",
        "  clf_rtree = RandomForestClassifier(max_depth=d, random_state=4)\n",
        "  clf_rtree.fit(X_train_scaled, y_train)\n",
        "  pred_vals = clf_tree.predict(X_holdout_scaled[beg:end, :])\n",
        "  score.append(clf_rtree.score(X_holdout_scaled, y_holdout))\n",
        "\n",
        "print(f'Средняя точность предсказаний: {score[-1]}')\n",
        "plt.xlabel(\"Максимальная глубина дерева\")\n",
        "plt.ylabel(\"Средняя точность предсказаний\")\n",
        "plt.plot(depth, score, \"r-\")\n",
        "plt.show()"
      ],
      "metadata": {
        "colab": {
          "base_uri": "https://localhost:8080/",
          "height": 296
        },
        "id": "xM5_GBShcXMp",
        "outputId": "6f4c6946-371a-44b9-ed18-269514f17dff"
      },
      "execution_count": null,
      "outputs": [
        {
          "output_type": "stream",
          "name": "stdout",
          "text": [
            "Средняя точность предсказаний: 0.9588333333333333\n"
          ]
        },
        {
          "output_type": "display_data",
          "data": {
            "text/plain": [
              "<Figure size 432x288 with 1 Axes>"
            ],
            "image/png": "[encoded data removed]"
          },
          "metadata": {
            "needs_background": "light"
          }
        }
      ]
    }
  ]
}