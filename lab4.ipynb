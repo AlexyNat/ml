{
  "nbformat": 4,
  "nbformat_minor": 0,
  "metadata": {
    "colab": {
      "provenance": [],
      "collapsed_sections": [],
      "authorship_tag": "ABX9TyOiKAB4aBECKuxNCGcugDuF",
      "include_colab_link": true
    },
    "kernelspec": {
      "name": "python3",
      "display_name": "Python 3"
    },
    "language_info": {
      "name": "python"
    }
  },
  "cells": [
    {
      "cell_type": "markdown",
      "metadata": {
        "id": "view-in-github",
        "colab_type": "text"
      },
      "source": [
        "<a href=\"https://colab.research.google.com/github/AlexyNat/ml/blob/main/lab4.ipynb\" target=\"_parent\"><img src=\"https://colab.research.google.com/assets/colab-badge.svg\" alt=\"Open In Colab\"/></a>"
      ]
    },
    {
      "cell_type": "markdown",
      "source": [
        "<h2>Данные распознавания буквенных изображений</h2>\n",
        "<p>Набор искаженных изображений букв</p>"
      ],
      "metadata": {
        "id": "-TMg8RmcZmN9"
      }
    },
    {
      "cell_type": "markdown",
      "source": [
        "Attribute Information:\n",
        "<ol>\n",
        "\t <li>lettr\tcapital letter\t(26 values from A to Z)</li>\n",
        "\t <li>x-box\thorizontal position of box\t(integer)</li>\n",
        "\t <li>y-box\tvertical position of box\t(integer)</li>\n",
        "\t <li>width width of box\t\t\t(integer)</li>\n",
        "\t <li>high \theight of box\t\t\t(integer)</li>\n",
        "\t <li>onpix\ttotal # on pixels\t\t(integer)</li>\n",
        "\t <li>x-bar\tmean x of on pixels in box\t(integer)</li>\n",
        "\t <li>y-bar\tmean y of on pixels in box\t(integer)</li>\n",
        "\t <li>x2bar\tmean x variance\t\t\t(integer)</li>\n",
        "\t <li>y2bar\tmean y variance\t\t\t(integer)</li>\n",
        "\t <li>\txybar\tmean x y correlation\t\t(integer)</li>\n",
        "\t <li>x2ybr\tmean of x * x * y\t\t(integer)</li>\n",
        "\t <li>\txy2br\tmean of x * y * y\t\t(integer)</li>\n",
        "\t <li>\tx-ege\tmean edge count left to right\t(integer)</li>\n",
        "\t <li>xegvy\tcorrelation of x-ege with y\t(integer)</li>\n",
        "\t <li>y-ege\tmean edge count bottom to top\t(integer)</li>\n",
        "\t <li>yegvx\tcorrelation of y-ege with x\t(integer)</li>\n",
        "</ol>"
      ],
      "metadata": {
        "id": "x16I7RSBZuFv"
      }
    },
    {
      "cell_type": "markdown",
      "source": [
        "<h3>Разделяем данные</h3>"
      ],
      "metadata": {
        "id": "Tc-ZmomFIAcp"
      }
    },
    {
      "cell_type": "code",
      "source": [
        "from sklearn.model_selection import train_test_split\n",
        "import pandas as pd\n",
        "from sklearn.utils import shuffle\n",
        "import numpy as np\n",
        "\n",
        "data = pd.read_csv('sample_data/letters.data', header=None)\n",
        "\n",
        "y = data[0]\n",
        "data.drop([0], axis=1, inplace=True)\n",
        "X_train, X_holdout, y_train, y_holdout = train_test_split(data.values, y, test_size=0.3)"
      ],
      "metadata": {
        "id": "B7GaX76M-Beq"
      },
      "execution_count": null,
      "outputs": []
    },
    {
      "cell_type": "markdown",
      "source": [
        "<h3>Масштабирование признаков</h3>"
      ],
      "metadata": {
        "id": "yX1ieSVXIMl6"
      }
    },
    {
      "cell_type": "code",
      "source": [
        "from sklearn.preprocessing import StandardScaler\n",
        "\n",
        "scaler = StandardScaler()\n",
        "X_train_scaled = scaler.fit_transform(X_train)\n",
        "X_holdout_scaled = scaler.transform(X_holdout)"
      ],
      "metadata": {
        "id": "NReeWGNVIM7d"
      },
      "execution_count": 2,
      "outputs": []
    },
    {
      "cell_type": "markdown",
      "source": [
        "<h3>Обучение модели MLPClassifier нейронной сети</h3>"
      ],
      "metadata": {
        "id": "o8xDm9GwIdBS"
      }
    },
    {
      "cell_type": "code",
      "source": [
        "from sklearn.neural_network import MLPClassifier\n",
        "\n",
        "clf_mlp = MLPClassifier(random_state=7).fit(X_train_scaled, y_train)\n"
      ],
      "metadata": {
        "colab": {
          "base_uri": "https://localhost:8080/"
        },
        "id": "nU_9j4eVIdTZ",
        "outputId": "8e95f718-a770-415a-9e30-acc22b48df17"
      },
      "execution_count": 3,
      "outputs": [
        {
          "output_type": "stream",
          "name": "stderr",
          "text": [
            "/usr/local/lib/python3.7/dist-packages/sklearn/neural_network/_multilayer_perceptron.py:696: ConvergenceWarning: Stochastic Optimizer: Maximum iterations (200) reached and the optimization hasn't converged yet.\n",
            "  ConvergenceWarning,\n"
          ]
        }
      ]
    },
    {
      "cell_type": "markdown",
      "source": [
        "<h3>Проверка точности модели MLPClassifier по тестовой выборке</h3>"
      ],
      "metadata": {
        "id": "W9Ar0VEJKvUS"
      }
    },
    {
      "cell_type": "code",
      "source": [
        "beg = 3\n",
        "end = 15\n",
        "\n",
        "pred_vals = clf_mlp.predict(X_holdout_scaled[beg:end, :])\n",
        "print(f'Предсказанные классы: ({end - beg} вариантов)', pred_vals)\n",
        "print(f'Истинные классы:      ({end - beg} вариантов)', y_holdout.values[beg:end])\n",
        "print(f'Средняя точность предсказаний: {clf_mlp.score(X_holdout_scaled, y_holdout):.2}')"
      ],
      "metadata": {
        "colab": {
          "base_uri": "https://localhost:8080/"
        },
        "id": "nJcUHVkTKUBR",
        "outputId": "2f01d1a6-1001-4679-dffd-2ae6770c2c4e"
      },
      "execution_count": 4,
      "outputs": [
        {
          "output_type": "stream",
          "name": "stdout",
          "text": [
            "Предсказанные классы: (12 вариантов) ['R' 'F' 'T' 'B' 'Y' 'H' 'I' 'W' 'G' 'J' 'K' 'K']\n",
            "Истинные классы:      (12 вариантов) ['R' 'F' 'T' 'B' 'Y' 'H' 'I' 'W' 'G' 'J' 'K' 'X']\n",
            "Средняя точность предсказаний: 0.94\n"
          ]
        }
      ]
    },
    {
      "cell_type": "markdown",
      "source": [
        "<h3>Обучение модели Perceptron нейронной сети</h3>"
      ],
      "metadata": {
        "id": "gWuNRibYNXD5"
      }
    },
    {
      "cell_type": "code",
      "source": [
        "from sklearn.linear_model import Perceptron\n",
        "\n",
        "\n",
        "clf_perc = Perceptron(max_iter=300, random_state=17).fit(X_train_scaled, y_train)"
      ],
      "metadata": {
        "id": "tZk_OBTUNheQ"
      },
      "execution_count": 5,
      "outputs": []
    },
    {
      "cell_type": "markdown",
      "source": [
        "<h3>Проверка точности модели Perceptron по тестовой выборке</h3>"
      ],
      "metadata": {
        "id": "ARvepESbOYy-"
      }
    },
    {
      "cell_type": "code",
      "source": [
        "beg = 3\n",
        "end = 15\n",
        "\n",
        "pred_vals = clf_perc.predict(X_holdout_scaled[beg:end, :])\n",
        "\n",
        "print(f'Предсказанные классы: ({end - beg} вариантов)', pred_vals)\n",
        "print(f'Истинные классы:      ({end - beg} вариантов)', y_holdout.values[beg:end])\n",
        "print(f'Средняя точность предсказаний: {clf_perc.score(X_holdout_scaled, y_holdout):.2}')"
      ],
      "metadata": {
        "colab": {
          "base_uri": "https://localhost:8080/"
        },
        "id": "3Dh7XSAfOZEZ",
        "outputId": "41ac5dd7-f290-434b-d3fb-b12be3f6c983"
      },
      "execution_count": 6,
      "outputs": [
        {
          "output_type": "stream",
          "name": "stdout",
          "text": [
            "Предсказанные классы: (12 вариантов) ['R' 'I' 'T' 'B' 'Y' 'P' 'I' 'M' 'H' 'J' 'K' 'X']\n",
            "Истинные классы:      (12 вариантов) ['R' 'F' 'T' 'B' 'Y' 'H' 'I' 'W' 'G' 'J' 'K' 'X']\n",
            "Средняя точность предсказаний: 0.5\n"
          ]
        }
      ]
    },
    {
      "cell_type": "markdown",
      "source": [
        "Параметры модели\n",
        "\n",
        "\n",
        "hidden_layer_sizestuple, length = n_layers - 2, default=(100,)\n",
        "Функция активации activation{‘identity’, ‘logistic’, ‘tanh’, ‘relu’}, default=’relu’\n",
        "alpha float, default=0.0001\n",
        "\n",
        "\n",
        "Регуляризация: penalty {'L2', 'L1', 'elasticnet'}\n",
        "alpha float, default=0.0001\n",
        "Критерий остановки: tol float, default=1e-3"
      ],
      "metadata": {
        "id": "TysTOqf_SpeP"
      }
    }
  ]
}