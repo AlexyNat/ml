{
  "nbformat": 4,
  "nbformat_minor": 0,
  "metadata": {
    "colab": {
      "provenance": [],
      "collapsed_sections": [],
      "authorship_tag": "ABX9TyOoMjKP0P+ezaaQtycTiYA1"
    },
    "kernelspec": {
      "name": "python3",
      "display_name": "Python 3"
    },
    "language_info": {
      "name": "python"
    }
  },
  "cells": [
    {
      "cell_type": "markdown",
      "source": [
        "<h3>Разделяем данные</h3>"
      ],
      "metadata": {
        "id": "Tc-ZmomFIAcp"
      }
    },
    {
      "cell_type": "code",
      "source": [
        "from sklearn.model_selection import train_test_split\n",
        "import pandas as pd\n",
        "from sklearn.utils import shuffle\n",
        "import numpy as np\n",
        "\n",
        "data = pd.read_csv('sample_data/letters.data', header=None)\n",
        "\n",
        "y = data[0]\n",
        "data.drop([0], axis=1, inplace=True)\n",
        "X_train, X_holdout, y_train, y_holdout = train_test_split(data.values, y, test_size=0.3)"
      ],
      "metadata": {
        "id": "B7GaX76M-Beq"
      },
      "execution_count": null,
      "outputs": []
    },
    {
      "cell_type": "markdown",
      "source": [
        "<h3>Масштабирование признаков</h3>"
      ],
      "metadata": {
        "id": "yX1ieSVXIMl6"
      }
    },
    {
      "cell_type": "code",
      "source": [
        "from sklearn.preprocessing import StandardScaler\n",
        "\n",
        "scaler = StandardScaler()\n",
        "X_train_scaled = scaler.fit_transform(X_train)\n",
        "X_holdout_scaled = scaler.transform(X_holdout)"
      ],
      "metadata": {
        "id": "NReeWGNVIM7d"
      },
      "execution_count": null,
      "outputs": []
    },
    {
      "cell_type": "markdown",
      "source": [
        "<h3>Обучение модели MLPClassifier нейронной сети</h3>"
      ],
      "metadata": {
        "id": "o8xDm9GwIdBS"
      }
    },
    {
      "cell_type": "code",
      "source": [
        "from sklearn.neural_network import MLPClassifier\n",
        "\n",
        "clf_mlp = MLPClassifier(random_state=7, max_iter=300).fit(X_train_scaled, y_train)\n"
      ],
      "metadata": {
        "colab": {
          "base_uri": "https://localhost:8080/"
        },
        "id": "nU_9j4eVIdTZ",
        "outputId": "d84f2d18-fb7d-4ab8-ac6e-cf7f8d1865e5"
      },
      "execution_count": null,
      "outputs": [
        {
          "output_type": "stream",
          "name": "stderr",
          "text": [
            "/usr/local/lib/python3.7/dist-packages/sklearn/neural_network/_multilayer_perceptron.py:696: ConvergenceWarning: Stochastic Optimizer: Maximum iterations (300) reached and the optimization hasn't converged yet.\n",
            "  ConvergenceWarning,\n"
          ]
        }
      ]
    },
    {
      "cell_type": "markdown",
      "source": [
        "<h3>Проверка точности модели MLPClassifier по тестовой выборке</h3>"
      ],
      "metadata": {
        "id": "W9Ar0VEJKvUS"
      }
    },
    {
      "cell_type": "code",
      "source": [
        "beg = 3\n",
        "end = 15\n",
        "\n",
        "pred_vals = clf_mlp.predict(X_holdout_scaled[beg:end, :])\n",
        "print(f'Предсказанные классы: ({end - beg} вариантов)', pred_vals)\n",
        "print(f'Истинные классы:      ({end - beg} вариантов)', y_holdout.values[beg:end])\n",
        "print(f'Средняя точность предсказаний: {clf_mlp.score(X_holdout_scaled, y_holdout):.2}')"
      ],
      "metadata": {
        "colab": {
          "base_uri": "https://localhost:8080/"
        },
        "id": "nJcUHVkTKUBR",
        "outputId": "856e1809-5a72-40ae-d415-2d22dc862ef8"
      },
      "execution_count": null,
      "outputs": [
        {
          "output_type": "stream",
          "name": "stdout",
          "text": [
            "Предсказанные классы: (12 вариантов) ['M' 'B' 'Y' 'P' 'G' 'Y' 'B' 'G' 'M' 'R' 'L' 'R']\n",
            "Истинные классы:      (12 вариантов) ['M' 'B' 'Y' 'P' 'G' 'Y' 'B' 'G' 'M' 'R' 'L' 'R']\n",
            "Средняя точность предсказаний: 0.95\n"
          ]
        }
      ]
    },
    {
      "cell_type": "markdown",
      "source": [
        "<h3>Обучение модели Perceptron нейронной сети</h3>"
      ],
      "metadata": {
        "id": "gWuNRibYNXD5"
      }
    },
    {
      "cell_type": "code",
      "source": [
        "from sklearn.linear_model import Perceptron\n",
        "\n",
        "\n",
        "clf_perc = Perceptron(max_iter=300, random_state=17).fit(X_train_scaled, y_train)"
      ],
      "metadata": {
        "id": "tZk_OBTUNheQ"
      },
      "execution_count": null,
      "outputs": []
    },
    {
      "cell_type": "markdown",
      "source": [
        "<h3>Проверка точности модели Perceptron по тестовой выборке</h3>"
      ],
      "metadata": {
        "id": "ARvepESbOYy-"
      }
    },
    {
      "cell_type": "code",
      "source": [
        "beg = 3\n",
        "end = 15\n",
        "\n",
        "pred_vals = clf_perc.predict(X_holdout_scaled[beg:end, :])\n",
        "\n",
        "print(f'Предсказанные классы: ({end - beg} вариантов)', pred_vals)\n",
        "print(f'Истинные классы:      ({end - beg} вариантов)', y_holdout.values[beg:end])\n",
        "print(f'Средняя точность предсказаний: {clf_perc.score(X_holdout_scaled, y_holdout):.2}')"
      ],
      "metadata": {
        "colab": {
          "base_uri": "https://localhost:8080/"
        },
        "id": "3Dh7XSAfOZEZ",
        "outputId": "ecaa7ec3-39a3-417c-9456-36a4e4dd8f86"
      },
      "execution_count": null,
      "outputs": [
        {
          "output_type": "stream",
          "name": "stdout",
          "text": [
            "Предсказанные классы: (12 вариантов) ['M' 'R' 'Y' 'P' 'O' 'Y' 'B' 'G' 'U' 'R' 'L' 'R']\n",
            "Истинные классы:      (12 вариантов) ['M' 'B' 'Y' 'P' 'G' 'Y' 'B' 'G' 'M' 'R' 'L' 'R']\n",
            "Средняя точность предсказаний: 0.5\n"
          ]
        }
      ]
    },
    {
      "cell_type": "markdown",
      "source": [
        "Параметры модели\n",
        "\n",
        "\n",
        "hidden_layer_sizestuple, length = n_layers - 2, default=(100,)\n",
        "Функция активации activation{‘identity’, ‘logistic’, ‘tanh’, ‘relu’}, default=’relu’\n",
        "alpha float, default=0.0001\n",
        "\n",
        "\n",
        "Регуляризация: penalty {'L2', 'L1', 'elasticnet'}\n",
        "alpha float, default=0.0001\n",
        "Критерий остановки: tol float, default=1e-3"
      ],
      "metadata": {
        "id": "TysTOqf_SpeP"
      }
    }
  ]
}