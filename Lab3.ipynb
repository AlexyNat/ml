{
  "nbformat": 4,
  "nbformat_minor": 0,
  "metadata": {
    "colab": {
      "provenance": [],
      "collapsed_sections": [],
      "authorship_tag": "ABX9TyPL3MvE/eszHdLC92DOpkcE"
    },
    "kernelspec": {
      "name": "python3",
      "display_name": "Python 3"
    },
    "language_info": {
      "name": "python"
    }
  },
  "cells": [
    {
      "cell_type": "markdown",
      "source": [
        "<h1><u>Лабораторная работа №3. Линейная регрессия</u></h1>\n",
        "\n",
        "<h3>Общее задание</h3>\n",
        "\n",
        "<p>Перед выполнением лабораторной работы необходимо загрузить набор данных в соответствии с вариантом на диск\n",
        "</p>\n",
        "<ol>\n",
        "  <li>Написать программу, которая разделяет исходную выборку на обучающую и тестовую (training set, test set). Использовать стандартные функции (train_test_split и др. нельзя).</li>\n",
        "  <li>С использованием библиотеки <a href=\"http://scikit-learn.org/stable/\">scikit-learn</a> обучить модель линейной регрессии по обучающей выборке <a href=\"https://scikit-learn.org/stable/auto_examples/linear_model/plot_ols.html#sphx-glr-auto-examples-linear-model-plot-ols-py\">пример</a></li>\n",
        "  <li>Проверить точность модели по тестовой выборке</li>\n",
        "  <li>Построить модель с использованием полиномиальной функции <a href=\"http://scikit-learn.org/stable/auto_examples/model_selection/plot_underfitting_overfitting.html#sphx-glr-auto-examples-model-selection-plot-underfitting-overfitting-py\">пример</a>. Построить графики зависимости точности на обучающей и тестовой выборке от степени полиномиальной функции.\n",
        "  </li>\n",
        "  <li>Построить модель с использованием регуляризации <a href=\"https://github.com/ulstu/ml/blob/master/ml_course_en/lecture04.%20Decision%20trees.%20KNN.%20Logistic%20regression.%20Regularization/Lecture%2004-03%20Lasso_ridge.ipynb\">пример</a>. На основе экспериментов подобрать параметры для регуляризации. Построить графики зависимости точности модели на обучающей и тестовой выборках от коэффициента регуляризации.</li>\n",
        "</ol>"
      ],
      "metadata": {
        "id": "HqJ-bcXdVHBT"
      }
    },
    {
      "cell_type": "markdown",
      "source": [
        "<h2>Вариант 21 - Bike Sharing Dataset</h2>\n",
        "\n",
        "<p>Этот набор данных содержит ежедневное количество арендованных велосипедов в период с 2011 по 2012 год в системе Capital bikeshare с соответствующей информацией о погоде и сезонах. </p>\n",
        "\n",
        "<h4>Информация о признаках</h4>\n",
        "\n",
        "<ul>\n",
        "  <li>instant: Номер записи </li>\n",
        "  <li>dteday : Дата записи </li>\n",
        "  <ul>\n",
        "    <li>yr : год (0: 2011, 1:2012)</li>\n",
        "    <li>mnth : месяц ( 1 to 12)</li>\n",
        "    <li>hr : час (0 to 23)</li>\n",
        "  </ul>\n",
        "  <li>season : Время года (1:зима, 2:весна, 3:лето, 4:осень)</li>\n",
        "  <li>holiday : День является праздником или нет (1 или 0)</li>\n",
        "  <li>weekday : День недели (0..6) </li>\n",
        "  <li>workingday : Если день рабочий, то 1 иначе 0</li>\n",
        "  <li>Погодные условия</li>\n",
        "  <ol>\n",
        "    <li>Clear, Few clouds, Partly cloudy, Partly cloudy</li>\n",
        "    <li>Mist + Cloudy, Mist + Broken clouds, Mist + Few clouds, Mist</li>\n",
        "    <li>Light Snow, Light Rain + Thunderstorm + Scattered clouds, Light Rain + Scattered clouds</li>\n",
        "    <li>Heavy Rain + Ice Pallets + Thunderstorm + Mist, Snow + Fog</li>\n",
        "  </ol>\n",
        "  <li>temp : Нормализованная температура в градусах Цельсия. Значения выводятся через (t-t_min)/(t_max-t_min), t_min=-8, t_max=+39 (только в часовой шкале)</li>\n",
        "  <li>atemp: Нормализованная температура тела в градусах Цельсия. Значения выводятся через (t-t_min)/(t_max-t_min), t_min=-16, t_max=+50 (только в часовой шкале))</li>\n",
        "  <li>hum: Нормализованная влажность. Значения делятся на 100 (макс.)</li>\n",
        "  <li>windspeed: Нормализованная скорость ветра. Значения делятся на 67 (макс.)</li>\n",
        "</ul>\n",
        "<h4>Информация о целевых значениях</h4>\n",
        "<ul>\n",
        "  <li>casual: количество случайных пользователей</li>\n",
        "  <li>registered: количество зарегистрированных пользователей</li>\n",
        "  <li>cnt: общее число пользователей</li>\n",
        "</ul>\n"
      ],
      "metadata": {
        "id": "098Wn81ma9z_"
      }
    },
    {
      "cell_type": "markdown",
      "source": [
        "<h3>Получаем данные из файла</h3>"
      ],
      "metadata": {
        "id": "zAAsH1QCbVLt"
      }
    },
    {
      "cell_type": "code",
      "source": [
        "import pandas as pd\n",
        "\n",
        "# устанавливаем признаки и целевые значения\n",
        "features = 'season','yr','mnth','holiday','weekday','workingday','weathersit','temp','atemp','hum','windspeed'\n",
        "target = 'registered', # casual,registered,cnt\n",
        "\n",
        "# получаем данные\n",
        "data = pd.read_csv('lab3_ml/bike_sharing.csv')\n",
        "data = data.loc[:, features + target]"
      ],
      "metadata": {
        "id": "tjivbdYubY1X"
      },
      "execution_count": 113,
      "outputs": []
    },
    {
      "cell_type": "markdown",
      "source": [
        "<h3>Разделяем данные</h3>"
      ],
      "metadata": {
        "id": "bkD6Inncexj6"
      }
    },
    {
      "cell_type": "code",
      "source": [
        "scale = 0.82\n",
        "split = int(data.shape[0] * scale)\n",
        "\n",
        "train = data.loc[:split - 1, features], data.loc[:split - 1, target]\n",
        "test = data.loc[split:, features].reset_index(drop=True), data.loc[split:, target].reset_index(drop=True)"
      ],
      "metadata": {
        "id": "X0egFPJZe0tx"
      },
      "execution_count": 114,
      "outputs": []
    },
    {
      "cell_type": "markdown",
      "source": [
        "<h3>Обучаем модель линейной регрессии по обучающей выборке</h3>"
      ],
      "metadata": {
        "id": "XZvG1uZJfZNl"
      }
    },
    {
      "cell_type": "code",
      "source": [
        "from sklearn.linear_model import LinearRegression as Model\n",
        "\n",
        "m = Model()\n",
        "m.fit(train[0], train[1])"
      ],
      "metadata": {
        "id": "fzvUFd4Sfmbb",
        "colab": {
          "base_uri": "https://localhost:8080/"
        },
        "outputId": "cc847383-fb70-45c3-c99e-242688beb06c"
      },
      "execution_count": 115,
      "outputs": [
        {
          "output_type": "execute_result",
          "data": {
            "text/plain": [
              "LinearRegression()"
            ]
          },
          "metadata": {},
          "execution_count": 115
        }
      ]
    },
    {
      "cell_type": "markdown",
      "source": [
        "<h3>Предсказываем целевые значения</h3>"
      ],
      "metadata": {
        "id": "LXSQufUCgN_x"
      }
    },
    {
      "cell_type": "code",
      "source": [
        "# передаем обучающую и тестовую выборку признаков\n",
        "predict_train = m.predict(train[0])\n",
        "predict_test = m.predict(test[0])"
      ],
      "metadata": {
        "id": "mMMJSohSgVLx"
      },
      "execution_count": 116,
      "outputs": []
    },
    {
      "cell_type": "markdown",
      "source": [
        "<h3>Проверяем точность модели по тестовой выборке</h3>"
      ],
      "metadata": {
        "id": "bSk06aIZgrOT"
      }
    },
    {
      "cell_type": "code",
      "source": [
        "# пределение точности модели по коэффициенту детерминации\n",
        "from sklearn.metrics import r2_score\n",
        "\n",
        "print('Коэффициент детерминации для обучающей выборки: {}'.format(r2_score(train[1], predict_train)))\n",
        "print('Коэффициент детерминации для тестовой выборки: {}'.format(r2_score(test[1], predict_test)))"
      ],
      "metadata": {
        "colab": {
          "base_uri": "https://localhost:8080/"
        },
        "id": "a4NXtAWUgw8w",
        "outputId": "7afc54ab-2fd7-4514-b02f-22cafbb431b5"
      },
      "execution_count": 117,
      "outputs": [
        {
          "output_type": "stream",
          "name": "stdout",
          "text": [
            "Коэффициент детерминации для обучающей выборки: 0.8335232133167962\n",
            "Коэффициент детерминации для тестовой выборки: 0.5829913429687636\n"
          ]
        }
      ]
    },
    {
      "cell_type": "markdown",
      "source": [
        "<h3>Постром модель с использованием полиномиальной функции</h3>"
      ],
      "metadata": {
        "id": "9mIFp1YXpUv7"
      }
    },
    {
      "cell_type": "code",
      "source": [
        "from sklearn.preprocessing import PolynomialFeatures as PModel\n",
        "from sklearn.linear_model import LinearRegression as LModel\n",
        "from sklearn.pipeline import Pipeline\n",
        "import matplotlib.pyplot as plt\n",
        "\n",
        "degrees = (1, 2, 3) # степень полинома\n",
        "plt.figure(figsize=(14, 5))\n",
        "\n",
        "train_pred_list = []\n",
        "test_pred_list = []\n",
        "\n",
        "for _, degree in enumerate(degrees):\n",
        "  polynomial_features = PModel(degree=degree, include_bias=False)\n",
        "  linear_regression = LModel()\n",
        "  pipeline = Pipeline([(\"polynomial_features\", polynomial_features),\n",
        "                         (\"linear_regression\", linear_regression)])\n",
        "  \n",
        "  # Обучение модели\n",
        "  pipeline.fit(train[0], train[1])\n",
        "\n",
        "  # Предсказываем целевые значения\n",
        "  predict_train = pipeline.predict(train[0])\n",
        "  predict_test = pipeline.predict(test[0])\n",
        "\n",
        "  train_pred_list.append(r2_score(train[1], predict_train))\n",
        "  test_pred_list.append(r2_score(test[1], predict_test))\n",
        "\n",
        "\n",
        "  print(f'Степень полинома: {degree}')\n",
        "  print(f'Коэффициент детерминации для обучающей выборки: {train_pred_list[-1]} \\\n",
        "и тестовой выборки {test_pred_list[-1]}')\n",
        "\n",
        "plt.xlabel(\"Степень полинома\")\n",
        "plt.ylabel(\"Коэффициент детерминации\")\n",
        "plt.plot(degrees, train_pred_list, \"r-\", degrees, test_pred_list,\"b-\")\n",
        "plt.show()"
      ],
      "metadata": {
        "colab": {
          "base_uri": "https://localhost:8080/",
          "height": 438
        },
        "id": "QoCNZijeplso",
        "outputId": "988ac692-d038-4344-d522-bdbe3910eda6"
      },
      "execution_count": 120,
      "outputs": [
        {
          "output_type": "stream",
          "name": "stdout",
          "text": [
            "Степень полинома: 1\n",
            "Коэффициент детерминации для обучающей выборки: 0.8335232133167962 и тестовой выборки 0.5829913429687638\n",
            "Степень полинома: 2\n",
            "Коэффициент детерминации для обучающей выборки: 0.9183292896236676 и тестовой выборки 0.6481623801209417\n",
            "Степень полинома: 3\n",
            "Коэффициент детерминации для обучающей выборки: 0.9671447217739069 и тестовой выборки -7.762316903164644\n"
          ]
        },
        {
          "output_type": "display_data",
          "data": {
            "text/plain": [
              "<Figure size 1008x360 with 1 Axes>"
            ],
            "image/png": "[encoded data removed]"
          },
          "metadata": {
            "needs_background": "light"
          }
        }
      ]
    }
  ]
}