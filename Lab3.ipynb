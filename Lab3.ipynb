{
  "nbformat": 4,
  "nbformat_minor": 0,
  "metadata": {
    "colab": {
      "provenance": [],
      "collapsed_sections": [],
      "authorship_tag": "ABX9TyOlx0InCAL3QhhI2JbE0Pyy",
      "include_colab_link": true
    },
    "kernelspec": {
      "name": "python3",
      "display_name": "Python 3"
    },
    "language_info": {
      "name": "python"
    }
  },
  "cells": [
    {
      "cell_type": "markdown",
      "metadata": {
        "id": "view-in-github",
        "colab_type": "text"
      },
      "source": [
        "<a href=\"https://colab.research.google.com/github/AlexyNat/ml/blob/main/Lab3.ipynb\" target=\"_parent\"><img src=\"https://colab.research.google.com/assets/colab-badge.svg\" alt=\"Open In Colab\"/></a>"
      ]
    },
    {
      "cell_type": "markdown",
      "source": [
        "<h1><u>Лабораторная работа №3. Линейная регрессия</u></h1>\n",
        "\n",
        "<h3>Общее задание</h3>\n",
        "\n",
        "<p>Перед выполнением лабораторной работы необходимо загрузить набор данных в соответствии с вариантом на диск\n",
        "</p>\n",
        "<ol>\n",
        "  <li>Написать программу, которая разделяет исходную выборку на обучающую и тестовую (training set, test set). Использовать стандартные функции (train_test_split и др. нельзя).</li>\n",
        "  <li>С использованием библиотеки <a href=\"http://scikit-learn.org/stable/\">scikit-learn</a> обучить модель линейной регрессии по обучающей выборке <a href=\"https://scikit-learn.org/stable/auto_examples/linear_model/plot_ols.html#sphx-glr-auto-examples-linear-model-plot-ols-py\">пример</a></li>\n",
        "  <li>Проверить точность модели по тестовой выборке</li>\n",
        "  <li>Построить модель с использованием полиномиальной функции <a href=\"http://scikit-learn.org/stable/auto_examples/model_selection/plot_underfitting_overfitting.html#sphx-glr-auto-examples-model-selection-plot-underfitting-overfitting-py\">пример</a>. Построить графики зависимости точности на обучающей и тестовой выборке от степени полиномиальной функции.\n",
        "  </li>\n",
        "  <li>Построить модель с использованием регуляризации <a href=\"https://github.com/ulstu/ml/blob/master/ml_course_en/lecture04.%20Decision%20trees.%20KNN.%20Logistic%20regression.%20Regularization/Lecture%2004-03%20Lasso_ridge.ipynb\">пример</a>. На основе экспериментов подобрать параметры для регуляризации. Построить графики зависимости точности модели на обучающей и тестовой выборках от коэффициента регуляризации.</li>\n",
        "</ol>"
      ],
      "metadata": {
        "id": "HqJ-bcXdVHBT"
      }
    },
    {
      "cell_type": "markdown",
      "source": [
        "<h2>Вариант 21 - Bike Sharing Dataset</h2>\n",
        "\n",
        "<p>Этот набор данных содержит ежедневное количество арендованных велосипедов в период с 2011 по 2012 год в системе Capital bikeshare с соответствующей информацией о погоде и сезонах. </p>\n",
        "\n",
        "<h4>Информация о признаках</h4>\n",
        "\n",
        "<ul>\n",
        "  <li>instant: Номер записи </li>\n",
        "  <li>dteday : Дата записи </li>\n",
        "  <ul>\n",
        "    <li>yr : год (0: 2011, 1:2012)</li>\n",
        "    <li>mnth : месяц ( 1 to 12)</li>\n",
        "    <li>hr : час (0 to 23)</li>\n",
        "  </ul>\n",
        "  <li>season : Время года (1:зима, 2:весна, 3:лето, 4:осень)</li>\n",
        "  <li>holiday : День является праздником или нет (1 или 0)</li>\n",
        "  <li>weekday : День недели (0..6) </li>\n",
        "  <li>workingday : Если день рабочий, то 1 иначе 0</li>\n",
        "  <li>weathersit - Погодные условия</li>\n",
        "  <ol>\n",
        "    <li>Clear, Few clouds, Partly cloudy, Partly cloudy</li>\n",
        "    <li>Mist + Cloudy, Mist + Broken clouds, Mist + Few clouds, Mist</li>\n",
        "    <li>Light Snow, Light Rain + Thunderstorm + Scattered clouds, Light Rain + Scattered clouds</li>\n",
        "    <li>Heavy Rain + Ice Pallets + Thunderstorm + Mist, Snow + Fog</li>\n",
        "  </ol>\n",
        "  <li>temp : Нормализованная температура в градусах Цельсия. Значения выводятся через (t-t_min)/(t_max-t_min), t_min=-8, t_max=+39 (только в часовой шкале)</li>\n",
        "  <li>atemp: Нормализованная температура тела в градусах Цельсия. Значения выводятся через (t-t_min)/(t_max-t_min), t_min=-16, t_max=+50 (только в часовой шкале))</li>\n",
        "  <li>hum: Нормализованная влажность. Значения делятся на 100 (макс.)</li>\n",
        "  <li>windspeed: Нормализованная скорость ветра. Значения делятся на 67 (макс.)</li>\n",
        "</ul>\n",
        "<h4>Информация о целевых значениях</h4>\n",
        "<ul>\n",
        "  <li>casual: количество случайных пользователей</li>\n",
        "  <li>registered: количество зарегистрированных пользователей</li>\n",
        "  <li>cnt: общее число пользователей</li>\n",
        "</ul>\n"
      ],
      "metadata": {
        "id": "098Wn81ma9z_"
      }
    },
    {
      "cell_type": "markdown",
      "source": [
        "<h3>Получаем данные из файла</h3>"
      ],
      "metadata": {
        "id": "zAAsH1QCbVLt"
      }
    },
    {
      "cell_type": "code",
      "source": [
        "import pandas as pd\n",
        "from sklearn.utils import shuffle\n",
        "import numpy as np\n",
        "from IPython.display import display\n",
        "import pprint\n",
        "\n",
        "# получаем данные\n",
        "data = pd.read_csv('sample_data/hour.csv')\n",
        "\n",
        "# устанавливаем признаки и целевые значения\n",
        "target = ['cnt'] # casual,registered,cnt\n",
        "features = [f for f in data.columns if f not in ['dteday','instant', 'casual','registered', 'cnt']]\n",
        "data.drop(['dteday','instant', 'casual','registered'], axis=1, inplace=True)\n",
        "\n",
        "display(f'Размер данных: {data.shape}')\n",
        "display(data.head())"
      ],
      "metadata": {
        "id": "tjivbdYubY1X",
        "colab": {
          "base_uri": "https://localhost:8080/",
          "height": 225
        },
        "outputId": "8e996896-45b7-43fb-ae31-1aa0e1ad8a22"
      },
      "execution_count": 2,
      "outputs": [
        {
          "output_type": "display_data",
          "data": {
            "text/plain": [
              "'Размер данных: (17379, 13)'"
            ],
            "application/vnd.google.colaboratory.intrinsic+json": {
              "type": "string"
            }
          },
          "metadata": {}
        },
        {
          "output_type": "display_data",
          "data": {
            "text/plain": [
              "   season  yr  mnth  hr  holiday  weekday  workingday  weathersit  temp  \\\n",
              "0       1   0     1   0        0        6           0           1  0.24   \n",
              "1       1   0     1   1        0        6           0           1  0.22   \n",
              "2       1   0     1   2        0        6           0           1  0.22   \n",
              "3       1   0     1   3        0        6           0           1  0.24   \n",
              "4       1   0     1   4        0        6           0           1  0.24   \n",
              "\n",
              "    atemp   hum  windspeed  cnt  \n",
              "0  0.2879  0.81        0.0   16  \n",
              "1  0.2727  0.80        0.0   40  \n",
              "2  0.2727  0.80        0.0   32  \n",
              "3  0.2879  0.75        0.0   13  \n",
              "4  0.2879  0.75        0.0    1  "
            ],
            "text/html": [
              "\n",
              "  <div id=\"df-0c1e1e1e-2dc7-4e53-a59b-f6e47ab73619\">\n",
              "    <div class=\"colab-df-container\">\n",
              "      <div>\n",
              "<style scoped>\n",
              "    .dataframe tbody tr th:only-of-type {\n",
              "        vertical-align: middle;\n",
              "    }\n",
              "\n",
              "    .dataframe tbody tr th {\n",
              "        vertical-align: top;\n",
              "    }\n",
              "\n",
              "    .dataframe thead th {\n",
              "        text-align: right;\n",
              "    }\n",
              "</style>\n",
              "<table border=\"1\" class=\"dataframe\">\n",
              "  <thead>\n",
              "    <tr style=\"text-align: right;\">\n",
              "      <th></th>\n",
              "      <th>season</th>\n",
              "      <th>yr</th>\n",
              "      <th>mnth</th>\n",
              "      <th>hr</th>\n",
              "      <th>holiday</th>\n",
              "      <th>weekday</th>\n",
              "      <th>workingday</th>\n",
              "      <th>weathersit</th>\n",
              "      <th>temp</th>\n",
              "      <th>atemp</th>\n",
              "      <th>hum</th>\n",
              "      <th>windspeed</th>\n",
              "      <th>cnt</th>\n",
              "    </tr>\n",
              "  </thead>\n",
              "  <tbody>\n",
              "    <tr>\n",
              "      <th>0</th>\n",
              "      <td>1</td>\n",
              "      <td>0</td>\n",
              "      <td>1</td>\n",
              "      <td>0</td>\n",
              "      <td>0</td>\n",
              "      <td>6</td>\n",
              "      <td>0</td>\n",
              "      <td>1</td>\n",
              "      <td>0.24</td>\n",
              "      <td>0.2879</td>\n",
              "      <td>0.81</td>\n",
              "      <td>0.0</td>\n",
              "      <td>16</td>\n",
              "    </tr>\n",
              "    <tr>\n",
              "      <th>1</th>\n",
              "      <td>1</td>\n",
              "      <td>0</td>\n",
              "      <td>1</td>\n",
              "      <td>1</td>\n",
              "      <td>0</td>\n",
              "      <td>6</td>\n",
              "      <td>0</td>\n",
              "      <td>1</td>\n",
              "      <td>0.22</td>\n",
              "      <td>0.2727</td>\n",
              "      <td>0.80</td>\n",
              "      <td>0.0</td>\n",
              "      <td>40</td>\n",
              "    </tr>\n",
              "    <tr>\n",
              "      <th>2</th>\n",
              "      <td>1</td>\n",
              "      <td>0</td>\n",
              "      <td>1</td>\n",
              "      <td>2</td>\n",
              "      <td>0</td>\n",
              "      <td>6</td>\n",
              "      <td>0</td>\n",
              "      <td>1</td>\n",
              "      <td>0.22</td>\n",
              "      <td>0.2727</td>\n",
              "      <td>0.80</td>\n",
              "      <td>0.0</td>\n",
              "      <td>32</td>\n",
              "    </tr>\n",
              "    <tr>\n",
              "      <th>3</th>\n",
              "      <td>1</td>\n",
              "      <td>0</td>\n",
              "      <td>1</td>\n",
              "      <td>3</td>\n",
              "      <td>0</td>\n",
              "      <td>6</td>\n",
              "      <td>0</td>\n",
              "      <td>1</td>\n",
              "      <td>0.24</td>\n",
              "      <td>0.2879</td>\n",
              "      <td>0.75</td>\n",
              "      <td>0.0</td>\n",
              "      <td>13</td>\n",
              "    </tr>\n",
              "    <tr>\n",
              "      <th>4</th>\n",
              "      <td>1</td>\n",
              "      <td>0</td>\n",
              "      <td>1</td>\n",
              "      <td>4</td>\n",
              "      <td>0</td>\n",
              "      <td>6</td>\n",
              "      <td>0</td>\n",
              "      <td>1</td>\n",
              "      <td>0.24</td>\n",
              "      <td>0.2879</td>\n",
              "      <td>0.75</td>\n",
              "      <td>0.0</td>\n",
              "      <td>1</td>\n",
              "    </tr>\n",
              "  </tbody>\n",
              "</table>\n",
              "</div>\n",
              "      <button class=\"colab-df-convert\" onclick=\"convertToInteractive('df-0c1e1e1e-2dc7-4e53-a59b-f6e47ab73619')\"\n",
              "              title=\"Convert this dataframe to an interactive table.\"\n",
              "              style=\"display:none;\">\n",
              "        \n",
              "  <svg xmlns=\"http://www.w3.org/2000/svg\" height=\"24px\"viewBox=\"0 0 24 24\"\n",
              "       width=\"24px\">\n",
              "    <path d=\"M0 0h24v24H0V0z\" fill=\"none\"/>\n",
              "    <path d=\"M18.56 5.44l.94 2.06.94-2.06 2.06-.94-2.06-.94-.94-2.06-.94 2.06-2.06.94zm-11 1L8.5 8.5l.94-2.06 2.06-.94-2.06-.94L8.5 2.5l-.94 2.06-2.06.94zm10 10l.94 2.06.94-2.06 2.06-.94-2.06-.94-.94-2.06-.94 2.06-2.06.94z\"/><path d=\"M17.41 7.96l-1.37-1.37c-.4-.4-.92-.59-1.43-.59-.52 0-1.04.2-1.43.59L10.3 9.45l-7.72 7.72c-.78.78-.78 2.05 0 2.83L4 21.41c.39.39.9.59 1.41.59.51 0 1.02-.2 1.41-.59l7.78-7.78 2.81-2.81c.8-.78.8-2.07 0-2.86zM5.41 20L4 18.59l7.72-7.72 1.47 1.35L5.41 20z\"/>\n",
              "  </svg>\n",
              "      </button>\n",
              "      \n",
              "  <style>\n",
              "    .colab-df-container {\n",
              "      display:flex;\n",
              "      flex-wrap:wrap;\n",
              "      gap: 12px;\n",
              "    }\n",
              "\n",
              "    .colab-df-convert {\n",
              "      background-color: #E8F0FE;\n",
              "      border: none;\n",
              "      border-radius: 50%;\n",
              "      cursor: pointer;\n",
              "      display: none;\n",
              "      fill: #1967D2;\n",
              "      height: 32px;\n",
              "      padding: 0 0 0 0;\n",
              "      width: 32px;\n",
              "    }\n",
              "\n",
              "    .colab-df-convert:hover {\n",
              "      background-color: #E2EBFA;\n",
              "      box-shadow: 0px 1px 2px rgba(60, 64, 67, 0.3), 0px 1px 3px 1px rgba(60, 64, 67, 0.15);\n",
              "      fill: #174EA6;\n",
              "    }\n",
              "\n",
              "    [theme=dark] .colab-df-convert {\n",
              "      background-color: #3B4455;\n",
              "      fill: #D2E3FC;\n",
              "    }\n",
              "\n",
              "    [theme=dark] .colab-df-convert:hover {\n",
              "      background-color: #434B5C;\n",
              "      box-shadow: 0px 1px 3px 1px rgba(0, 0, 0, 0.15);\n",
              "      filter: drop-shadow(0px 1px 2px rgba(0, 0, 0, 0.3));\n",
              "      fill: #FFFFFF;\n",
              "    }\n",
              "  </style>\n",
              "\n",
              "      <script>\n",
              "        const buttonEl =\n",
              "          document.querySelector('#df-0c1e1e1e-2dc7-4e53-a59b-f6e47ab73619 button.colab-df-convert');\n",
              "        buttonEl.style.display =\n",
              "          google.colab.kernel.accessAllowed ? 'block' : 'none';\n",
              "\n",
              "        async function convertToInteractive(key) {\n",
              "          const element = document.querySelector('#df-0c1e1e1e-2dc7-4e53-a59b-f6e47ab73619');\n",
              "          const dataTable =\n",
              "            await google.colab.kernel.invokeFunction('convertToInteractive',\n",
              "                                                     [key], {});\n",
              "          if (!dataTable) return;\n",
              "\n",
              "          const docLinkHtml = 'Like what you see? Visit the ' +\n",
              "            '<a target=\"_blank\" href=https://colab.research.google.com/notebooks/data_table.ipynb>data table notebook</a>'\n",
              "            + ' to learn more about interactive tables.';\n",
              "          element.innerHTML = '';\n",
              "          dataTable['output_type'] = 'display_data';\n",
              "          await google.colab.output.renderOutput(dataTable, element);\n",
              "          const docLink = document.createElement('div');\n",
              "          docLink.innerHTML = docLinkHtml;\n",
              "          element.appendChild(docLink);\n",
              "        }\n",
              "      </script>\n",
              "    </div>\n",
              "  </div>\n",
              "  "
            ]
          },
          "metadata": {}
        }
      ]
    },
    {
      "cell_type": "markdown",
      "source": [
        "<h3>Категориальные признаки</h3>"
      ],
      "metadata": {
        "id": "lXmsGydB89HH"
      }
    },
    {
      "cell_type": "code",
      "source": [
        "print(f'Месяц: ', str(pd.unique(data['mnth'])))\n",
        "print(f'Час: ', str(pd.unique(data['hr'])))\n",
        "print(f'Время года: ', str(pd.unique(data['season'])))\n",
        "print(f'День недели: ', str(pd.unique(data['weekday'])))\n",
        "print(f'Погода: ', str(pd.unique(data['weathersit'])))"
      ],
      "metadata": {
        "colab": {
          "base_uri": "https://localhost:8080/"
        },
        "id": "GwWALyLx6qWv",
        "outputId": "69839443-e391-4648-da51-19b51b5b9e90"
      },
      "execution_count": 3,
      "outputs": [
        {
          "output_type": "stream",
          "name": "stdout",
          "text": [
            "Месяц:  [ 1  2  3  4  5  6  7  8  9 10 11 12]\n",
            "Час:  [ 0  1  2  3  4  5  6  7  8  9 10 11 12 13 14 15 16 17 18 19 20 21 22 23]\n",
            "Время года:  [1 2 3 4]\n",
            "День недели:  [6 0 1 2 3 4 5]\n",
            "Погода:  [1 2 3 4]\n"
          ]
        }
      ]
    },
    {
      "cell_type": "code",
      "source": [
        "#Converting categorical Columns to Numeric\n",
        "\n",
        "# cat_features = 'mnth', 'hr', 'season', 'weekday', 'weathersit'\n",
        "\n",
        "# cat_features_new = []\n",
        "# for feature in cat_features:\n",
        "#   categories = pd.unique(data[feature])\n",
        "#   bin_features = []\n",
        "\n",
        "#   for cat in categories:\n",
        "#     binary = (data[feature] == cat)\n",
        "#     bin_features.append(binary.astype(int))\n",
        "\n",
        "#   features_cats = []\n",
        "#   del data[feature]\n",
        "#   features.remove(feature)\n",
        "#   for inx, day in enumerate(bin_features):\n",
        "#     features_cats.append(f'{feature}{inx}')\n",
        "#     data[f'{feature}{inx}'] = day\n",
        "#     features.extend(features_cats)"
      ],
      "metadata": {
        "id": "B0dJVus-5gwR"
      },
      "execution_count": 4,
      "outputs": []
    },
    {
      "cell_type": "code",
      "source": [
        "display(f'Размер данных: {data.shape}')\n",
        "display(data.head())"
      ],
      "metadata": {
        "colab": {
          "base_uri": "https://localhost:8080/",
          "height": 225
        },
        "id": "lTlPrSZDBAHi",
        "outputId": "39215b00-e310-498d-8a5d-3f1bfcf237de"
      },
      "execution_count": 5,
      "outputs": [
        {
          "output_type": "display_data",
          "data": {
            "text/plain": [
              "'Размер данных: (17379, 13)'"
            ],
            "application/vnd.google.colaboratory.intrinsic+json": {
              "type": "string"
            }
          },
          "metadata": {}
        },
        {
          "output_type": "display_data",
          "data": {
            "text/plain": [
              "   season  yr  mnth  hr  holiday  weekday  workingday  weathersit  temp  \\\n",
              "0       1   0     1   0        0        6           0           1  0.24   \n",
              "1       1   0     1   1        0        6           0           1  0.22   \n",
              "2       1   0     1   2        0        6           0           1  0.22   \n",
              "3       1   0     1   3        0        6           0           1  0.24   \n",
              "4       1   0     1   4        0        6           0           1  0.24   \n",
              "\n",
              "    atemp   hum  windspeed  cnt  \n",
              "0  0.2879  0.81        0.0   16  \n",
              "1  0.2727  0.80        0.0   40  \n",
              "2  0.2727  0.80        0.0   32  \n",
              "3  0.2879  0.75        0.0   13  \n",
              "4  0.2879  0.75        0.0    1  "
            ],
            "text/html": [
              "\n",
              "  <div id=\"df-ad209665-b154-4dfe-ad47-f4a181da50d8\">\n",
              "    <div class=\"colab-df-container\">\n",
              "      <div>\n",
              "<style scoped>\n",
              "    .dataframe tbody tr th:only-of-type {\n",
              "        vertical-align: middle;\n",
              "    }\n",
              "\n",
              "    .dataframe tbody tr th {\n",
              "        vertical-align: top;\n",
              "    }\n",
              "\n",
              "    .dataframe thead th {\n",
              "        text-align: right;\n",
              "    }\n",
              "</style>\n",
              "<table border=\"1\" class=\"dataframe\">\n",
              "  <thead>\n",
              "    <tr style=\"text-align: right;\">\n",
              "      <th></th>\n",
              "      <th>season</th>\n",
              "      <th>yr</th>\n",
              "      <th>mnth</th>\n",
              "      <th>hr</th>\n",
              "      <th>holiday</th>\n",
              "      <th>weekday</th>\n",
              "      <th>workingday</th>\n",
              "      <th>weathersit</th>\n",
              "      <th>temp</th>\n",
              "      <th>atemp</th>\n",
              "      <th>hum</th>\n",
              "      <th>windspeed</th>\n",
              "      <th>cnt</th>\n",
              "    </tr>\n",
              "  </thead>\n",
              "  <tbody>\n",
              "    <tr>\n",
              "      <th>0</th>\n",
              "      <td>1</td>\n",
              "      <td>0</td>\n",
              "      <td>1</td>\n",
              "      <td>0</td>\n",
              "      <td>0</td>\n",
              "      <td>6</td>\n",
              "      <td>0</td>\n",
              "      <td>1</td>\n",
              "      <td>0.24</td>\n",
              "      <td>0.2879</td>\n",
              "      <td>0.81</td>\n",
              "      <td>0.0</td>\n",
              "      <td>16</td>\n",
              "    </tr>\n",
              "    <tr>\n",
              "      <th>1</th>\n",
              "      <td>1</td>\n",
              "      <td>0</td>\n",
              "      <td>1</td>\n",
              "      <td>1</td>\n",
              "      <td>0</td>\n",
              "      <td>6</td>\n",
              "      <td>0</td>\n",
              "      <td>1</td>\n",
              "      <td>0.22</td>\n",
              "      <td>0.2727</td>\n",
              "      <td>0.80</td>\n",
              "      <td>0.0</td>\n",
              "      <td>40</td>\n",
              "    </tr>\n",
              "    <tr>\n",
              "      <th>2</th>\n",
              "      <td>1</td>\n",
              "      <td>0</td>\n",
              "      <td>1</td>\n",
              "      <td>2</td>\n",
              "      <td>0</td>\n",
              "      <td>6</td>\n",
              "      <td>0</td>\n",
              "      <td>1</td>\n",
              "      <td>0.22</td>\n",
              "      <td>0.2727</td>\n",
              "      <td>0.80</td>\n",
              "      <td>0.0</td>\n",
              "      <td>32</td>\n",
              "    </tr>\n",
              "    <tr>\n",
              "      <th>3</th>\n",
              "      <td>1</td>\n",
              "      <td>0</td>\n",
              "      <td>1</td>\n",
              "      <td>3</td>\n",
              "      <td>0</td>\n",
              "      <td>6</td>\n",
              "      <td>0</td>\n",
              "      <td>1</td>\n",
              "      <td>0.24</td>\n",
              "      <td>0.2879</td>\n",
              "      <td>0.75</td>\n",
              "      <td>0.0</td>\n",
              "      <td>13</td>\n",
              "    </tr>\n",
              "    <tr>\n",
              "      <th>4</th>\n",
              "      <td>1</td>\n",
              "      <td>0</td>\n",
              "      <td>1</td>\n",
              "      <td>4</td>\n",
              "      <td>0</td>\n",
              "      <td>6</td>\n",
              "      <td>0</td>\n",
              "      <td>1</td>\n",
              "      <td>0.24</td>\n",
              "      <td>0.2879</td>\n",
              "      <td>0.75</td>\n",
              "      <td>0.0</td>\n",
              "      <td>1</td>\n",
              "    </tr>\n",
              "  </tbody>\n",
              "</table>\n",
              "</div>\n",
              "      <button class=\"colab-df-convert\" onclick=\"convertToInteractive('df-ad209665-b154-4dfe-ad47-f4a181da50d8')\"\n",
              "              title=\"Convert this dataframe to an interactive table.\"\n",
              "              style=\"display:none;\">\n",
              "        \n",
              "  <svg xmlns=\"http://www.w3.org/2000/svg\" height=\"24px\"viewBox=\"0 0 24 24\"\n",
              "       width=\"24px\">\n",
              "    <path d=\"M0 0h24v24H0V0z\" fill=\"none\"/>\n",
              "    <path d=\"M18.56 5.44l.94 2.06.94-2.06 2.06-.94-2.06-.94-.94-2.06-.94 2.06-2.06.94zm-11 1L8.5 8.5l.94-2.06 2.06-.94-2.06-.94L8.5 2.5l-.94 2.06-2.06.94zm10 10l.94 2.06.94-2.06 2.06-.94-2.06-.94-.94-2.06-.94 2.06-2.06.94z\"/><path d=\"M17.41 7.96l-1.37-1.37c-.4-.4-.92-.59-1.43-.59-.52 0-1.04.2-1.43.59L10.3 9.45l-7.72 7.72c-.78.78-.78 2.05 0 2.83L4 21.41c.39.39.9.59 1.41.59.51 0 1.02-.2 1.41-.59l7.78-7.78 2.81-2.81c.8-.78.8-2.07 0-2.86zM5.41 20L4 18.59l7.72-7.72 1.47 1.35L5.41 20z\"/>\n",
              "  </svg>\n",
              "      </button>\n",
              "      \n",
              "  <style>\n",
              "    .colab-df-container {\n",
              "      display:flex;\n",
              "      flex-wrap:wrap;\n",
              "      gap: 12px;\n",
              "    }\n",
              "\n",
              "    .colab-df-convert {\n",
              "      background-color: #E8F0FE;\n",
              "      border: none;\n",
              "      border-radius: 50%;\n",
              "      cursor: pointer;\n",
              "      display: none;\n",
              "      fill: #1967D2;\n",
              "      height: 32px;\n",
              "      padding: 0 0 0 0;\n",
              "      width: 32px;\n",
              "    }\n",
              "\n",
              "    .colab-df-convert:hover {\n",
              "      background-color: #E2EBFA;\n",
              "      box-shadow: 0px 1px 2px rgba(60, 64, 67, 0.3), 0px 1px 3px 1px rgba(60, 64, 67, 0.15);\n",
              "      fill: #174EA6;\n",
              "    }\n",
              "\n",
              "    [theme=dark] .colab-df-convert {\n",
              "      background-color: #3B4455;\n",
              "      fill: #D2E3FC;\n",
              "    }\n",
              "\n",
              "    [theme=dark] .colab-df-convert:hover {\n",
              "      background-color: #434B5C;\n",
              "      box-shadow: 0px 1px 3px 1px rgba(0, 0, 0, 0.15);\n",
              "      filter: drop-shadow(0px 1px 2px rgba(0, 0, 0, 0.3));\n",
              "      fill: #FFFFFF;\n",
              "    }\n",
              "  </style>\n",
              "\n",
              "      <script>\n",
              "        const buttonEl =\n",
              "          document.querySelector('#df-ad209665-b154-4dfe-ad47-f4a181da50d8 button.colab-df-convert');\n",
              "        buttonEl.style.display =\n",
              "          google.colab.kernel.accessAllowed ? 'block' : 'none';\n",
              "\n",
              "        async function convertToInteractive(key) {\n",
              "          const element = document.querySelector('#df-ad209665-b154-4dfe-ad47-f4a181da50d8');\n",
              "          const dataTable =\n",
              "            await google.colab.kernel.invokeFunction('convertToInteractive',\n",
              "                                                     [key], {});\n",
              "          if (!dataTable) return;\n",
              "\n",
              "          const docLinkHtml = 'Like what you see? Visit the ' +\n",
              "            '<a target=\"_blank\" href=https://colab.research.google.com/notebooks/data_table.ipynb>data table notebook</a>'\n",
              "            + ' to learn more about interactive tables.';\n",
              "          element.innerHTML = '';\n",
              "          dataTable['output_type'] = 'display_data';\n",
              "          await google.colab.output.renderOutput(dataTable, element);\n",
              "          const docLink = document.createElement('div');\n",
              "          docLink.innerHTML = docLinkHtml;\n",
              "          element.appendChild(docLink);\n",
              "        }\n",
              "      </script>\n",
              "    </div>\n",
              "  </div>\n",
              "  "
            ]
          },
          "metadata": {}
        }
      ]
    },
    {
      "cell_type": "markdown",
      "source": [
        "<h3>Разделяем данные</h3>"
      ],
      "metadata": {
        "id": "bkD6Inncexj6"
      }
    },
    {
      "cell_type": "code",
      "source": [
        "scale = 0.7\n",
        "split = np.floor(data.shape[0] * scale).astype(int)\n",
        "\n",
        "idx = np.random.permutation(data.shape[0])\n",
        "idx_train = idx[:split]\n",
        "idx_test = idx[split:]\n",
        "\n",
        "train = list((data.loc[idx_train, features], data.loc[idx_train, target]))\n",
        "test =  list((data.loc[idx_test, features].reset_index(drop=True), data.loc[idx_test, target].reset_index(drop=True)))\n",
        "print('Тренеровочные данные: ', train[0].shape, train[1].shape)\n",
        "print('Тестовые данные: ', test[0].shape, test[1].shape)"
      ],
      "metadata": {
        "id": "X0egFPJZe0tx",
        "colab": {
          "base_uri": "https://localhost:8080/"
        },
        "outputId": "16065fa4-7e50-4ee2-c877-139f97af5a15"
      },
      "execution_count": 6,
      "outputs": [
        {
          "output_type": "stream",
          "name": "stdout",
          "text": [
            "Тренеровочные данные:  (12165, 12) (12165, 1)\n",
            "Тестовые данные:  (5214, 12) (5214, 1)\n"
          ]
        }
      ]
    },
    {
      "cell_type": "markdown",
      "source": [
        "<h3>Масштабирование признаков</h3>"
      ],
      "metadata": {
        "id": "PXSZuriljnDR"
      }
    },
    {
      "cell_type": "code",
      "source": [
        "from sklearn.preprocessing import StandardScaler\n",
        "\n",
        "scaler = StandardScaler()\n",
        "train[0] = scaler.fit_transform(train[0])\n",
        "test[0] = scaler.transform(test[0])"
      ],
      "metadata": {
        "id": "hckW3MceiqYb"
      },
      "execution_count": 7,
      "outputs": []
    },
    {
      "cell_type": "markdown",
      "source": [
        "<h3>Обучаем модель линейной регрессии по обучающей выборке</h3>"
      ],
      "metadata": {
        "id": "XZvG1uZJfZNl"
      }
    },
    {
      "cell_type": "code",
      "source": [
        "from sklearn.linear_model import LinearRegression as Model\n",
        "\n",
        "m = Model()\n",
        "m.fit(train[0], train[1])"
      ],
      "metadata": {
        "id": "fzvUFd4Sfmbb",
        "colab": {
          "base_uri": "https://localhost:8080/"
        },
        "outputId": "0faf75a2-3850-46ad-af9a-0ef1ae0dd67c"
      },
      "execution_count": 8,
      "outputs": [
        {
          "output_type": "execute_result",
          "data": {
            "text/plain": [
              "LinearRegression()"
            ]
          },
          "metadata": {},
          "execution_count": 8
        }
      ]
    },
    {
      "cell_type": "markdown",
      "source": [
        "<h3>Предсказываем целевые значения</h3>"
      ],
      "metadata": {
        "id": "LXSQufUCgN_x"
      }
    },
    {
      "cell_type": "code",
      "source": [
        "# передаем обучающую и тестовую выборку признаков\n",
        "predict_train = m.predict(train[0])\n",
        "predict_test = m.predict(test[0])"
      ],
      "metadata": {
        "id": "mMMJSohSgVLx"
      },
      "execution_count": 9,
      "outputs": []
    },
    {
      "cell_type": "markdown",
      "source": [
        "<h3>Проверяем точность модели по тестовой выборке</h3>"
      ],
      "metadata": {
        "id": "bSk06aIZgrOT"
      }
    },
    {
      "cell_type": "code",
      "source": [
        "# определение точности модели по коэффициенту детерминации\n",
        "from sklearn.metrics import r2_score\n",
        "\n",
        "print(f'Коэффициент детерминации для обучающей выборки: {r2_score(train[1], predict_train)}')\n",
        "print(f'Коэффициент детерминации для тестовой выборки:  {r2_score(test[1], predict_test)}')"
      ],
      "metadata": {
        "colab": {
          "base_uri": "https://localhost:8080/"
        },
        "id": "a4NXtAWUgw8w",
        "outputId": "8e8ddf94-7789-439f-cab3-ac2524a5ae2c"
      },
      "execution_count": 10,
      "outputs": [
        {
          "output_type": "stream",
          "name": "stdout",
          "text": [
            "Коэффициент детерминации для обучающей выборки: 0.39147128529823205\n",
            "Коэффициент детерминации для тестовой выборки:  0.38278185916001295\n"
          ]
        }
      ]
    },
    {
      "cell_type": "markdown",
      "source": [
        "<h3>Построим модель с использованием полиномиальной функции</h3>"
      ],
      "metadata": {
        "id": "9mIFp1YXpUv7"
      }
    },
    {
      "cell_type": "code",
      "source": [
        "from sklearn.preprocessing import PolynomialFeatures as PModel\n",
        "from sklearn.linear_model import LinearRegression as LModel\n",
        "from sklearn.pipeline import Pipeline\n",
        "import matplotlib.pyplot as plt\n",
        "\n",
        "degrees = (1, 2, 3, 4) # степень полинома\n",
        "plt.figure(figsize=(14, 5))\n",
        "\n",
        "train_pred_list = []\n",
        "test_pred_list = []\n",
        "\n",
        "for _, degree in enumerate(degrees):\n",
        "  polynomial_features = PModel(degree=degree, include_bias=False)\n",
        "  linear_regression = LModel()\n",
        "  pipeline = Pipeline([(\"polynomial_features\", polynomial_features),\n",
        "                         (\"linear_regression\", linear_regression)])\n",
        "  \n",
        "  # Обучение модели\n",
        "  pipeline.fit(train[0], train[1])\n",
        "\n",
        "  # Предсказываем целевые значения\n",
        "  predict_train = pipeline.predict(train[0])\n",
        "  predict_test = pipeline.predict(test[0])\n",
        "\n",
        "  train_pred_list.append(r2_score(train[1], predict_train))\n",
        "  test_pred_list.append(r2_score(test[1], predict_test))\n",
        "\n",
        "\n",
        "  print(f'Степень полинома: {degree}')\n",
        "  print(f'Коэффициент детерминации для обучающей выборки: {train_pred_list[-1]} \\\n",
        "и тестовой выборки: {test_pred_list[-1]}')\n",
        "\n",
        "plt.xlabel(\"Степень полинома\")\n",
        "plt.ylabel(\"Коэффициент детерминации\")\n",
        "plt.plot(degrees, train_pred_list, \"r-\", degrees, test_pred_list,\"b-\")\n",
        "plt.show()"
      ],
      "metadata": {
        "colab": {
          "base_uri": "https://localhost:8080/",
          "height": 484
        },
        "id": "QoCNZijeplso",
        "outputId": "81e03d31-e330-454d-943f-ef2d31379f0c"
      },
      "execution_count": 11,
      "outputs": [
        {
          "output_type": "stream",
          "name": "stdout",
          "text": [
            "Степень полинома: 1\n",
            "Коэффициент детерминации для обучающей выборки: 0.39147128529823205 и тестовой выборки: 0.38278185916001295\n",
            "Степень полинома: 2\n",
            "Коэффициент детерминации для обучающей выборки: 0.5452076867261572 и тестовой выборки: 0.5453098156083225\n",
            "Степень полинома: 3\n",
            "Коэффициент детерминации для обучающей выборки: 0.6442738256469634 и тестовой выборки: 0.6340182310328047\n",
            "Степень полинома: 4\n",
            "Коэффициент детерминации для обучающей выборки: 0.7091557875548973 и тестовой выборки: -1.7595426674814167e+18\n"
          ]
        },
        {
          "output_type": "display_data",
          "data": {
            "text/plain": [
              "<Figure size 1008x360 with 1 Axes>"
            ],
            "image/png": "[encoded data removed]"
          },
          "metadata": {
            "needs_background": "light"
          }
        }
      ]
    },
    {
      "cell_type": "code",
      "source": [
        "from sklearn.linear_model import Lasso, Ridge\n",
        "from cycler import cycler\n",
        "\n",
        "n_alphas = 5\n",
        "alphas = np.linspace(0.01, 100, n_alphas)\n",
        "model = Lasso()\n",
        "\n",
        "coefs = []\n",
        "for a in alphas:\n",
        "    model.set_params(alpha=a)\n",
        "    model.fit(train[0], train[1])\n",
        "    coefs.append(model.coef_)\n",
        "    \n",
        "ax = plt.gca()\n",
        "ax.set_prop_cycle(cycler('color', \n",
        "                          ['b', 'r', 'g', 'c', 'k', 'y', 'm']))\n",
        "\n",
        "ax.plot(alphas, coefs)\n",
        "ax.set_xscale('log')\n",
        "ax.set_xlim(ax.get_xlim()[::-1])  # reverse axis\n",
        "plt.xlabel('alpha')\n",
        "plt.ylabel('weights')\n",
        "plt.title('Lasso coefficients as a function of the regularization')\n",
        "plt.axis('tight')\n",
        "plt.show();"
      ],
      "metadata": {
        "colab": {
          "base_uri": "https://localhost:8080/",
          "height": 299
        },
        "id": "5zSQiIkaBPo9",
        "outputId": "b7ad0928-b6c2-49ee-f68b-8ccac1ea4177"
      },
      "execution_count": 12,
      "outputs": [
        {
          "output_type": "display_data",
          "data": {
            "text/plain": [
              "<Figure size 432x288 with 1 Axes>"
            ],
            "image/png": "[encoded data removed]"
          },
          "metadata": {
            "needs_background": "light"
          }
        }
      ]
    },
    {
      "cell_type": "markdown",
      "source": [
        "<h3>Построим модель с использованием регуляризации</h3>"
      ],
      "metadata": {
        "id": "mDWwulS50FDc"
      }
    },
    {
      "cell_type": "code",
      "source": [
        "from sklearn.linear_model import Lasso, Ridge\n",
        "\n",
        "plt.figure(figsize=(14, 5))\n",
        "\n",
        "n_alphas = 5\n",
        "alphas = np.linspace(0.01, 1e3, n_alphas)\n",
        "score = [[], []]\n",
        "\n",
        "for a in alphas:\n",
        "    polynomial_features = PModel(degree=4, include_bias=False)\n",
        "    linear_regression = Ridge(alpha=a)\n",
        "    pipeline = Pipeline([(\"polynomial_features\", polynomial_features),\n",
        "                         (\"linear_regression\", linear_regression)])\n",
        "    pipeline.fit(train[0], train[1])\n",
        "    score[0].append(pipeline.score(train[0], train[1]))\n",
        "    score[1].append(pipeline.score(test[0], test[1]))\n",
        "\n",
        "\n",
        "plt.xlabel(\"Коэффициент регуляризации\")\n",
        "plt.ylabel(\"Точность модели\")\n",
        "plt.plot(alphas, score[0], \"r-\", alphas, score[1],\"b-\")\n",
        "plt.show()"
      ],
      "metadata": {
        "colab": {
          "base_uri": "https://localhost:8080/",
          "height": 334
        },
        "id": "2D78fjdBa6tI",
        "outputId": "6efeff8e-66db-42c4-dc89-6dbc17bb0426"
      },
      "execution_count": 13,
      "outputs": [
        {
          "output_type": "display_data",
          "data": {
            "text/plain": [
              "<Figure size 1008x360 with 1 Axes>"
            ],
            "image/png": "[encoded data removed]"
          },
          "metadata": {
            "needs_background": "light"
          }
        }
      ]
    },
    {
      "cell_type": "code",
      "source": [
        "n_alphas = 200\n",
        "alphas = np.linspace(0.01, 100, n_alphas)\n",
        "model = Lasso()\n",
        "\n",
        "r2 = [[],[]]\n",
        "for a in alphas:\n",
        "    model.set_params(alpha=a)\n",
        "    model.fit(train[0], train[1])\n",
        "    r2[0].append(model.score(train[0], train[1]))\n",
        "    r2[1].append(model.score(test[0], test[1]))\n",
        "\n",
        "ax = plt.gca()\n",
        "ax.plot(alphas, r2[0],alphas, r2[1])\n",
        "plt.xlabel('alpha')\n",
        "plt.ylabel('R2')\n",
        "plt.title('Lasso coefficients as a function of the regularization')\n",
        "plt.axis('tight')\n",
        "plt.show();"
      ],
      "metadata": {
        "colab": {
          "base_uri": "https://localhost:8080/",
          "height": 295
        },
        "id": "WPwk1oU2OIzi",
        "outputId": "fc897c3f-132d-4631-dd53-ea89d932380d"
      },
      "execution_count": 15,
      "outputs": [
        {
          "output_type": "display_data",
          "data": {
            "text/plain": [
              "<Figure size 432x288 with 1 Axes>"
            ],
            "image/png": "[encoded data removed]"
          },
          "metadata": {
            "needs_background": "light"
          }
        }
      ]
    }
  ]
}