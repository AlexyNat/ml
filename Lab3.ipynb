{
  "nbformat": 4,
  "nbformat_minor": 0,
  "metadata": {
    "colab": {
      "provenance": [],
      "collapsed_sections": [],
      "authorship_tag": "ABX9TyPZsbSlO5w9rkJp/MZTWdQG",
      "include_colab_link": true
    },
    "kernelspec": {
      "name": "python3",
      "display_name": "Python 3"
    },
    "language_info": {
      "name": "python"
    }
  },
  "cells": [
    {
      "cell_type": "markdown",
      "metadata": {
        "id": "view-in-github",
        "colab_type": "text"
      },
      "source": [
        "<a href=\"https://colab.research.google.com/github/AlexyNat/ml/blob/main/Lab3.ipynb\" target=\"_parent\"><img src=\"https://colab.research.google.com/assets/colab-badge.svg\" alt=\"Open In Colab\"/></a>"
      ]
    },
    {
      "cell_type": "markdown",
      "source": [
        "<h1>Лабораторная работа №3. Линейная регрессия</h1>\n",
        "\n",
        "<h3>Общее задание</h3>\n",
        "\n",
        "<p>Перед выполнением лабораторной работы необходимо загрузить набор данных в соответствии с вариантом на диск\n",
        "</p>\n",
        "<ol>\n",
        "  <li>Написать программу, которая разделяет исходную выборку на обучающую и тестовую (training set, test set). Использовать стандартные функции (train_test_split и др. нельзя).</li>\n",
        "  <li>С использованием библиотеки scikit-learn обучить модель линейной регрессии по обучающей выборке пример</li>\n",
        "  <li>Проверить точность модели по тестовой выборке\n",
        "Построить модель с использованием полиномиальной функции пример.\n",
        "  </li>\n",
        "</ol>\n",
        "\n",
        "\n",
        "3.   Проверить точность модели по тестовой выборке\n",
        "Построить модель с использованием полиномиальной функции пример. \n",
        "\n",
        "\n",
        "Проверить точность модели по тестовой выборке\n",
        "Построить модель с использованием полиномиальной функции пример. Построить графики зависимости точности на обучающей и тестовой выборке от степени полиномиальной функции.\n",
        "Построить модель с использованием регуляризации пример. На основе экспериментов подобрать параметры для регуляризации. Построить графики зависимости точности модели на обучающей и тестовой выборках от коэффициента регуляризации."
      ],
      "metadata": {
        "id": "HqJ-bcXdVHBT"
      }
    },
    {
      "cell_type": "code",
      "source": [],
      "metadata": {
        "id": "KH5uGq23VJCt"
      },
      "execution_count": null,
      "outputs": []
    }
  ]
}