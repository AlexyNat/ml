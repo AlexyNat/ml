{
  "nbformat": 4,
  "nbformat_minor": 0,
  "metadata": {
    "colab": {
      "provenance": [],
      "collapsed_sections": [],
      "authorship_tag": "ABX9TyO3rLDzcptjh1WkpiN0uB08",
      "include_colab_link": true
    },
    "kernelspec": {
      "name": "python3",
      "display_name": "Python 3"
    },
    "language_info": {
      "name": "python"
    }
  },
  "cells": [
    {
      "cell_type": "markdown",
      "metadata": {
        "id": "view-in-github",
        "colab_type": "text"
      },
      "source": [
        "<a href=\"https://colab.research.google.com/github/AlexyNat/ml/blob/main/Lab3.ipynb\" target=\"_parent\"><img src=\"https://colab.research.google.com/assets/colab-badge.svg\" alt=\"Open In Colab\"/></a>"
      ]
    },
    {
      "cell_type": "markdown",
      "source": [
        "<h1><u>Лабораторная работа №3. Линейная регрессия</u></h1>\n",
        "\n",
        "<h3>Общее задание</h3>\n",
        "\n",
        "<p>Перед выполнением лабораторной работы необходимо загрузить набор данных в соответствии с вариантом на диск\n",
        "</p>\n",
        "<ol>\n",
        "  <li>Написать программу, которая разделяет исходную выборку на обучающую и тестовую (training set, test set). Использовать стандартные функции (train_test_split и др. нельзя).</li>\n",
        "  <li>С использованием библиотеки <a href=\"http://scikit-learn.org/stable/\">scikit-learn</a> обучить модель линейной регрессии по обучающей выборке <a href=\"https://scikit-learn.org/stable/auto_examples/linear_model/plot_ols.html#sphx-glr-auto-examples-linear-model-plot-ols-py\">пример</a></li>\n",
        "  <li>Проверить точность модели по тестовой выборке</li>\n",
        "  <li>Построить модель с использованием полиномиальной функции <a href=\"http://scikit-learn.org/stable/auto_examples/model_selection/plot_underfitting_overfitting.html#sphx-glr-auto-examples-model-selection-plot-underfitting-overfitting-py\">пример</a>. Построить графики зависимости точности на обучающей и тестовой выборке от степени полиномиальной функции.\n",
        "  </li>\n",
        "  <li>Построить модель с использованием регуляризации <a href=\"https://github.com/ulstu/ml/blob/master/ml_course_en/lecture04.%20Decision%20trees.%20KNN.%20Logistic%20regression.%20Regularization/Lecture%2004-03%20Lasso_ridge.ipynb\">пример</a>. На основе экспериментов подобрать параметры для регуляризации. Построить графики зависимости точности модели на обучающей и тестовой выборках от коэффициента регуляризации.</li>\n",
        "</ol>"
      ],
      "metadata": {
        "id": "HqJ-bcXdVHBT"
      }
    },
    {
      "cell_type": "markdown",
      "source": [
        "<h2>Вариант 21 - Bike Sharing Dataset</h2>\n",
        "\n",
        "<p>Этот набор данных содержит ежедневное количество арендованных велосипедов в период с 2011 по 2012 год в системе Capital bikeshare с соответствующей информацией о погоде и сезонах. </p>\n",
        "\n",
        "<h4>Информация о признаках</h4>\n",
        "\n",
        "<ul>\n",
        "  <li>instant: Номер записи </li>\n",
        "  <li>dteday : Дата записи </li>\n",
        "  <ul>\n",
        "    <li>yr : год (0: 2011, 1:2012)</li>\n",
        "    <li>mnth : месяц ( 1 to 12)</li>\n",
        "    <li>hr : час (0 to 23)</li>\n",
        "  </ul>\n",
        "  <li>season : Время года (1:зима, 2:весна, 3:лето, 4:осень)</li>\n",
        "  <li>holiday : День является праздником или нет (1 или 0)</li>\n",
        "  <li>weekday : День недели (0..6) </li>\n",
        "  <li>workingday : Если день рабочий, то 1 иначе 0</li>\n",
        "  <li>weathersit - Погодные условия</li>\n",
        "  <ol>\n",
        "    <li>Clear, Few clouds, Partly cloudy, Partly cloudy</li>\n",
        "    <li>Mist + Cloudy, Mist + Broken clouds, Mist + Few clouds, Mist</li>\n",
        "    <li>Light Snow, Light Rain + Thunderstorm + Scattered clouds, Light Rain + Scattered clouds</li>\n",
        "    <li>Heavy Rain + Ice Pallets + Thunderstorm + Mist, Snow + Fog</li>\n",
        "  </ol>\n",
        "  <li>temp : Нормализованная температура в градусах Цельсия. Значения выводятся через (t-t_min)/(t_max-t_min), t_min=-8, t_max=+39 (только в часовой шкале)</li>\n",
        "  <li>atemp: Нормализованная температура тела в градусах Цельсия. Значения выводятся через (t-t_min)/(t_max-t_min), t_min=-16, t_max=+50 (только в часовой шкале))</li>\n",
        "  <li>hum: Нормализованная влажность. Значения делятся на 100 (макс.)</li>\n",
        "  <li>windspeed: Нормализованная скорость ветра. Значения делятся на 67 (макс.)</li>\n",
        "</ul>\n",
        "<h4>Информация о целевых значениях</h4>\n",
        "<ul>\n",
        "  <li>casual: количество случайных пользователей</li>\n",
        "  <li>registered: количество зарегистрированных пользователей</li>\n",
        "  <li>cnt: общее число пользователей</li>\n",
        "</ul>\n"
      ],
      "metadata": {
        "id": "098Wn81ma9z_"
      }
    },
    {
      "cell_type": "markdown",
      "source": [
        "<h3>Получаем данные из файла</h3>"
      ],
      "metadata": {
        "id": "zAAsH1QCbVLt"
      }
    },
    {
      "cell_type": "code",
      "source": [
        "import pandas as pd\n",
        "from sklearn.utils import shuffle\n",
        "import numpy as np\n",
        "\n",
        "# устанавливаем признаки и целевые значения\n",
        "features = ['yr','mnth','hr','season','holiday','weekday','workingday','weathersit','temp','atemp','hum','windspeed']\n",
        "target = ['cnt'] # casual,registered,cnt\n",
        "\n",
        "# получаем данные\n",
        "data = pd.read_csv('sample_data/hour.csv')\n",
        "data = data.loc[:, features + target]\n",
        "print('Число данных: ', data.shape)"
      ],
      "metadata": {
        "id": "tjivbdYubY1X",
        "colab": {
          "base_uri": "https://localhost:8080/"
        },
        "outputId": "15a4bb74-e566-45e8-fcf5-2b449d498a36"
      },
      "execution_count": 2,
      "outputs": [
        {
          "output_type": "stream",
          "name": "stdout",
          "text": [
            "Число данных:  (17379, 13)\n"
          ]
        }
      ]
    },
    {
      "cell_type": "markdown",
      "source": [
        "<h3>Разделяем данные</h3>"
      ],
      "metadata": {
        "id": "bkD6Inncexj6"
      }
    },
    {
      "cell_type": "code",
      "source": [
        "scale = 0.7\n",
        "split = np.floor(data.shape[0] * scale).astype(int)\n",
        "\n",
        "idx = np.random.permutation(data.shape[0])\n",
        "idx_train = idx[:split]\n",
        "idx_test = idx[split:]\n",
        "\n",
        "train = list((data.loc[idx_train, features], data.loc[idx_train, target]))\n",
        "test =  list((data.loc[idx_test, features].reset_index(drop=True), data.loc[idx_test, target].reset_index(drop=True)))\n",
        "print('Тренеровочные данные: ', train[0].shape, train[1].shape)\n",
        "print('Тестовые данные: ', test[0].shape, test[1].shape)"
      ],
      "metadata": {
        "id": "X0egFPJZe0tx",
        "colab": {
          "base_uri": "https://localhost:8080/"
        },
        "outputId": "e7c219d6-7042-41e6-d635-34cd90884534"
      },
      "execution_count": 3,
      "outputs": [
        {
          "output_type": "stream",
          "name": "stdout",
          "text": [
            "Тренеровочные данные:  (12165, 12) (12165, 1)\n",
            "Тестовые данные:  (5214, 12) (5214, 1)\n"
          ]
        }
      ]
    },
    {
      "cell_type": "markdown",
      "source": [
        "<h3>Масштабирование признаков</h3>"
      ],
      "metadata": {
        "id": "PXSZuriljnDR"
      }
    },
    {
      "cell_type": "code",
      "source": [
        "from sklearn.preprocessing import StandardScaler\n",
        "\n",
        "scaler = StandardScaler()\n",
        "train[0] = scaler.fit_transform(train[0])\n",
        "test[0] = scaler.transform(test[0])"
      ],
      "metadata": {
        "id": "hckW3MceiqYb"
      },
      "execution_count": 4,
      "outputs": []
    },
    {
      "cell_type": "markdown",
      "source": [
        "<h3>Обучаем модель линейной регрессии по обучающей выборке</h3>"
      ],
      "metadata": {
        "id": "XZvG1uZJfZNl"
      }
    },
    {
      "cell_type": "code",
      "source": [
        "from sklearn.linear_model import LinearRegression as Model\n",
        "\n",
        "m = Model()\n",
        "m.fit(train[0], train[1])"
      ],
      "metadata": {
        "id": "fzvUFd4Sfmbb",
        "colab": {
          "base_uri": "https://localhost:8080/"
        },
        "outputId": "c557e049-c62d-41f1-cdce-1ae7e87a35cb"
      },
      "execution_count": 5,
      "outputs": [
        {
          "output_type": "execute_result",
          "data": {
            "text/plain": [
              "LinearRegression()"
            ]
          },
          "metadata": {},
          "execution_count": 5
        }
      ]
    },
    {
      "cell_type": "markdown",
      "source": [
        "<h3>Предсказываем целевые значения</h3>"
      ],
      "metadata": {
        "id": "LXSQufUCgN_x"
      }
    },
    {
      "cell_type": "code",
      "source": [
        "# передаем обучающую и тестовую выборку признаков\n",
        "predict_train = m.predict(train[0])\n",
        "predict_test = m.predict(test[0])"
      ],
      "metadata": {
        "id": "mMMJSohSgVLx"
      },
      "execution_count": 6,
      "outputs": []
    },
    {
      "cell_type": "markdown",
      "source": [
        "<h3>Проверяем точность модели по тестовой выборке</h3>"
      ],
      "metadata": {
        "id": "bSk06aIZgrOT"
      }
    },
    {
      "cell_type": "code",
      "source": [
        "# определение точности модели по коэффициенту детерминации\n",
        "from sklearn.metrics import r2_score\n",
        "\n",
        "print(f'Коэффициент детерминации для обучающей выборки: {r2_score(train[1], predict_train)}')\n",
        "print(f'Коэффициент детерминации для тестовой выборки:  {r2_score(test[1], predict_test)}')"
      ],
      "metadata": {
        "colab": {
          "base_uri": "https://localhost:8080/"
        },
        "id": "a4NXtAWUgw8w",
        "outputId": "fade639d-0a02-4bea-ae82-fcc5597208ac"
      },
      "execution_count": 7,
      "outputs": [
        {
          "output_type": "stream",
          "name": "stdout",
          "text": [
            "Коэффициент детерминации для обучающей выборки: 0.38921956740479524\n",
            "Коэффициент детерминации для тестовой выборки:  0.38765194947227255\n"
          ]
        }
      ]
    },
    {
      "cell_type": "markdown",
      "source": [
        "<h3>Построим модель с использованием полиномиальной функции</h3>"
      ],
      "metadata": {
        "id": "9mIFp1YXpUv7"
      }
    },
    {
      "cell_type": "code",
      "source": [
        "from sklearn.preprocessing import PolynomialFeatures as PModel\n",
        "from sklearn.linear_model import LinearRegression as LModel\n",
        "from sklearn.pipeline import Pipeline\n",
        "import matplotlib.pyplot as plt\n",
        "\n",
        "degrees = (1, 2, 3, 4, ) # степень полинома\n",
        "plt.figure(figsize=(14, 5))\n",
        "\n",
        "train_pred_list = []\n",
        "test_pred_list = []\n",
        "\n",
        "for _, degree in enumerate(degrees):\n",
        "  polynomial_features = PModel(degree=degree, include_bias=False)\n",
        "  linear_regression = LModel()\n",
        "  pipeline = Pipeline([(\"polynomial_features\", polynomial_features),\n",
        "                         (\"linear_regression\", linear_regression)])\n",
        "  \n",
        "  # Обучение модели\n",
        "  pipeline.fit(train[0], train[1])\n",
        "\n",
        "  # Предсказываем целевые значения\n",
        "  predict_train = pipeline.predict(train[0])\n",
        "  predict_test = pipeline.predict(test[0])\n",
        "\n",
        "  train_pred_list.append(r2_score(train[1], predict_train))\n",
        "  test_pred_list.append(r2_score(test[1], predict_test))\n",
        "\n",
        "\n",
        "  print(f'Степень полинома: {degree}')\n",
        "  print(f'Коэффициент детерминации для обучающей выборки: {train_pred_list[-1]} \\\n",
        "и тестовой выборки: {test_pred_list[-1]}')\n",
        "\n",
        "plt.xlabel(\"Степень полинома\")\n",
        "plt.ylabel(\"Коэффициент детерминации\")\n",
        "plt.plot(degrees, train_pred_list, \"r-\", degrees, test_pred_list,\"b-\")\n",
        "plt.show()"
      ],
      "metadata": {
        "colab": {
          "base_uri": "https://localhost:8080/",
          "height": 484
        },
        "id": "QoCNZijeplso",
        "outputId": "3fa315f8-53ce-4728-bc36-db79003a03df"
      },
      "execution_count": 8,
      "outputs": [
        {
          "output_type": "stream",
          "name": "stdout",
          "text": [
            "Степень полинома: 1\n",
            "Коэффициент детерминации для обучающей выборки: 0.38921956740479524 и тестовой выборки: 0.38765194947227255\n",
            "Степень полинома: 2\n",
            "Коэффициент детерминации для обучающей выборки: 0.5501618410303096 и тестовой выборки: 0.5489064546785971\n",
            "Степень полинома: 3\n",
            "Коэффициент детерминации для обучающей выборки: 0.6456763835191466 и тестовой выборки: 0.6312030366257795\n",
            "Степень полинома: 4\n",
            "Коэффициент детерминации для обучающей выборки: 0.7164125999259623 и тестовой выборки: -15236975811.8356\n"
          ]
        },
        {
          "output_type": "display_data",
          "data": {
            "text/plain": [
              "<Figure size 1008x360 with 1 Axes>"
            ],
            "image/png": "[encoded data removed]"
          },
          "metadata": {
            "needs_background": "light"
          }
        }
      ]
    },
    {
      "cell_type": "markdown",
      "source": [
        "<h3>Построим модель с использованием регуляризации</h3>"
      ],
      "metadata": {
        "id": "mDWwulS50FDc"
      }
    },
    {
      "cell_type": "code",
      "source": [
        "from sklearn.linear_model import Lasso, Ridge\n",
        "\n",
        "plt.figure(figsize=(14, 5))\n",
        "\n",
        "n_alphas = 5\n",
        "alphas = np.linspace(0.01, 10, n_alphas)\n",
        "score = [[], []]\n",
        "\n",
        "for a in alphas:\n",
        "    polynomial_features = PModel(degree=4, include_bias=False)\n",
        "    linear_regression = Ridge(alpha=a)\n",
        "    pipeline = Pipeline([(\"polynomial_features\", polynomial_features),\n",
        "                         (\"linear_regression\", linear_regression)])\n",
        "    pipeline.fit(train[0], train[1])\n",
        "    score[0].append(pipeline.score(train[0], train[1]))\n",
        "    score[1].append(pipeline.score(test[0], test[1]))\n",
        "\n",
        "\n",
        "plt.xlabel(\"Коэффициент регуляризации\")\n",
        "plt.ylabel(\"Точность модели\")\n",
        "plt.plot(alphas, score[0], \"r-\", alphas, score[1],\"b-\")\n",
        "plt.show()"
      ],
      "metadata": {
        "colab": {
          "base_uri": "https://localhost:8080/",
          "height": 334
        },
        "id": "2D78fjdBa6tI",
        "outputId": "4cb28cf8-c4ea-4732-81bb-4b35e5e6396b"
      },
      "execution_count": 25,
      "outputs": [
        {
          "output_type": "display_data",
          "data": {
            "text/plain": [
              "<Figure size 1008x360 with 1 Axes>"
            ],
            "image/png": "[encoded data removed]"
          },
          "metadata": {
            "needs_background": "light"
          }
        }
      ]
    }
  ]
}