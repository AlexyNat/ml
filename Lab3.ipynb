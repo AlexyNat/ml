{
  "nbformat": 4,
  "nbformat_minor": 0,
  "metadata": {
    "colab": {
      "provenance": [],
      "collapsed_sections": [],
      "authorship_tag": "ABX9TyP2L2v/hGA2hw5LJqkAP/C3"
    },
    "kernelspec": {
      "name": "python3",
      "display_name": "Python 3"
    },
    "language_info": {
      "name": "python"
    }
  },
  "cells": [
    {
      "cell_type": "markdown",
      "source": [
        "<h1><u>Лабораторная работа №3. Линейная регрессия</u></h1>\n",
        "\n",
        "<h3>Общее задание</h3>\n",
        "\n",
        "<p>Перед выполнением лабораторной работы необходимо загрузить набор данных в соответствии с вариантом на диск\n",
        "</p>\n",
        "<ol>\n",
        "  <li>Написать программу, которая разделяет исходную выборку на обучающую и тестовую (training set, test set). Использовать стандартные функции (train_test_split и др. нельзя).</li>\n",
        "  <li>С использованием библиотеки <a href=\"http://scikit-learn.org/stable/\">scikit-learn</a> обучить модель линейной регрессии по обучающей выборке <a href=\"https://scikit-learn.org/stable/auto_examples/linear_model/plot_ols.html#sphx-glr-auto-examples-linear-model-plot-ols-py\">пример</a></li>\n",
        "  <li>Проверить точность модели по тестовой выборке</li>\n",
        "  <li>Построить модель с использованием полиномиальной функции <a href=\"http://scikit-learn.org/stable/auto_examples/model_selection/plot_underfitting_overfitting.html#sphx-glr-auto-examples-model-selection-plot-underfitting-overfitting-py\">пример</a>. Построить графики зависимости точности на обучающей и тестовой выборке от степени полиномиальной функции.\n",
        "  </li>\n",
        "  <li>Построить модель с использованием регуляризации <a href=\"https://github.com/ulstu/ml/blob/master/ml_course_en/lecture04.%20Decision%20trees.%20KNN.%20Logistic%20regression.%20Regularization/Lecture%2004-03%20Lasso_ridge.ipynb\">пример</a>. На основе экспериментов подобрать параметры для регуляризации. Построить графики зависимости точности модели на обучающей и тестовой выборках от коэффициента регуляризации.</li>\n",
        "</ol>"
      ],
      "metadata": {
        "id": "HqJ-bcXdVHBT"
      }
    },
    {
      "cell_type": "markdown",
      "source": [
        "<h2>Вариант 7 - Concrete Slump Test</h2>"
      ],
      "metadata": {
        "id": "098Wn81ma9z_"
      }
    },
    {
      "cell_type": "markdown",
      "source": [
        "<h3>Получаем данные из файла</h3>"
      ],
      "metadata": {
        "id": "zAAsH1QCbVLt"
      }
    },
    {
      "cell_type": "code",
      "source": [
        "import pandas as pd\n",
        "\n",
        "# устанавливаем признаки и целевые значения\n",
        "features = 'Cement', 'Slag', 'Fly ash', 'Water', 'SP', 'Coarse Aggr.', 'Fine Aggr.'\n",
        "target = 'Compressive Strength (28-day)(Mpa)',\n",
        "\n",
        "# получаем данные\n",
        "data = pd.read_csv('sample_data/slump_test.csv')\n",
        "data = data.loc[:, features + target]"
      ],
      "metadata": {
        "id": "tjivbdYubY1X"
      },
      "execution_count": null,
      "outputs": []
    },
    {
      "cell_type": "markdown",
      "source": [
        "<h3>Масштабируем данные</h3>"
      ],
      "metadata": {
        "id": "dp0o_BwRdmck"
      }
    },
    {
      "cell_type": "code",
      "source": [
        "from sklearn.preprocessing import StandardScaler\n",
        "\n",
        "\n",
        "target_data = data[target[0]]\n",
        "scale = StandardScaler()\n",
        "scaled_df = scale.fit_transform(data.loc[:, features])\n",
        "data = pd.DataFrame(scaled_df, columns=features)\n",
        "data[target[0]] = target_data"
      ],
      "metadata": {
        "id": "M8AoMzETcp6F"
      },
      "execution_count": null,
      "outputs": []
    },
    {
      "cell_type": "markdown",
      "source": [
        "<h3>Разделяем данные</h3>"
      ],
      "metadata": {
        "id": "bkD6Inncexj6"
      }
    },
    {
      "cell_type": "code",
      "source": [
        "scale = 0.8\n",
        "split = int(data.shape[0] * scale)\n",
        "\n",
        "train = data.loc[:split - 1, features], data.loc[:split - 1, target]\n",
        "test = data.loc[split:, features].reset_index(drop=True), data.loc[split:, target].reset_index(drop=True)"
      ],
      "metadata": {
        "id": "X0egFPJZe0tx"
      },
      "execution_count": null,
      "outputs": []
    },
    {
      "cell_type": "markdown",
      "source": [
        "<h3>Обучаем модель линейной регрессии по обучающей выборке</h3>"
      ],
      "metadata": {
        "id": "XZvG1uZJfZNl"
      }
    },
    {
      "cell_type": "code",
      "source": [
        "from sklearn.linear_model import LinearRegression as Model\n",
        "\n",
        "m = Model()\n",
        "m.fit(train[0], train[1])"
      ],
      "metadata": {
        "id": "fzvUFd4Sfmbb"
      },
      "execution_count": null,
      "outputs": []
    },
    {
      "cell_type": "markdown",
      "source": [
        "<h3>Предсказываем целевые значения</h3>"
      ],
      "metadata": {
        "id": "LXSQufUCgN_x"
      }
    },
    {
      "cell_type": "code",
      "source": [
        "# передаем тестовую выборку признаков\n",
        "predict = m.predict(test[0])"
      ],
      "metadata": {
        "id": "mMMJSohSgVLx"
      },
      "execution_count": null,
      "outputs": []
    },
    {
      "cell_type": "markdown",
      "source": [
        "<h3>Проверяем точность модели по тестовой выборке</h3>"
      ],
      "metadata": {
        "id": "bSk06aIZgrOT"
      }
    },
    {
      "cell_type": "code",
      "source": [
        "# пределение точности модели по коэффициенту детерминации\n",
        "from sklearn.metrics import r2_score\n",
        "\n",
        "print('Коэффициент детерминации: {}'.format(r2_score(test[1], predict)))"
      ],
      "metadata": {
        "colab": {
          "base_uri": "https://localhost:8080/"
        },
        "id": "a4NXtAWUgw8w",
        "outputId": "7b87a6c4-0958-4682-add9-d7f93bd40552"
      },
      "execution_count": null,
      "outputs": [
        {
          "output_type": "stream",
          "name": "stdout",
          "text": [
            "Коэффициент детерминации: 0.8004367673952908\n"
          ]
        }
      ]
    }
  ]
}